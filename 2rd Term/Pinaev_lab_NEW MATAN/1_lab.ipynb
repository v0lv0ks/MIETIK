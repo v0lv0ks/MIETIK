{
 "cells": [
  {
   "cell_type": "code",
   "execution_count": 1,
   "metadata": {},
   "outputs": [
    {
     "name": "stdout",
     "output_type": "stream",
     "text": [
      "0\n"
     ]
    }
   ],
   "source": [
    "from sympy import *\n",
    "import sympy as sp\n",
    "import numpy as np\n"
   ]
  },
  {
   "cell_type": "markdown",
   "id": "6c5bc8f1",
   "metadata": {},
   "source": [
    "1 задание"
   ]
  },
  {
   "cell_type": "code",
   "execution_count": 49,
   "id": "0afd8feb",
   "metadata": {},
   "outputs": [
    {
     "name": "stdout",
     "output_type": "stream",
     "text": [
      "  x⋅cos(5⋅x)   sin(5⋅x)\n",
      "- ────────── + ────────\n",
      "      5           25   \n"
     ]
    }
   ],
   "source": [
    "x=Symbol('x')\n",
    "I=integrate(x*sp.sin(5*x),x)\n",
    "pprint(I)"
   ]
  },
  {
   "cell_type": "code",
   "execution_count": 50,
   "id": "631cd01e",
   "metadata": {},
   "outputs": [
    {
     "name": "stdout",
     "output_type": "stream",
     "text": [
      "         ⎛ 2    ⎞            \n",
      "x - 2⋅log⎝x  + 1⎠ + 3⋅atan(x)\n"
     ]
    }
   ],
   "source": [
    "x=Symbol('x')\n",
    "I=integrate(1/(x**2+1)*(x-2)**2,x)\n",
    "pprint(I)"
   ]
  },
  {
   "cell_type": "markdown",
   "id": "f4f89d7b",
   "metadata": {},
   "source": [
    "2 задание"
   ]
  },
  {
   "cell_type": "code",
   "execution_count": 51,
   "id": "b0c9f968",
   "metadata": {},
   "outputs": [
    {
     "name": "stdout",
     "output_type": "stream",
     "text": [
      "π\n",
      "─\n",
      "2\n"
     ]
    }
   ],
   "source": [
    "x=Symbol('x')\n",
    "I=integrate(sqrt(1-x**2),(x,-1,1))\n",
    "pprint(I)"
   ]
  },
  {
   "cell_type": "code",
   "execution_count": 52,
   "id": "4b6bee19",
   "metadata": {},
   "outputs": [
    {
     "name": "stdout",
     "output_type": "stream",
     "text": [
      "       3\n",
      "1   2⋅ℯ \n",
      "─ + ────\n",
      "9    9  \n"
     ]
    }
   ],
   "source": [
    "x=Symbol('x')\n",
    "I=integrate(x*exp(3*x),(x,0,1))\n",
    "pprint(I)"
   ]
  },
  {
   "cell_type": "markdown",
   "id": "8af1888e",
   "metadata": {},
   "source": [
    "3 задание"
   ]
  },
  {
   "cell_type": "code",
   "execution_count": 53,
   "id": "9cd6cc3c",
   "metadata": {},
   "outputs": [
    {
     "name": "stdout",
     "output_type": "stream",
     "text": [
      "1.0 0.25\n",
      "1.25 0.25\n",
      "1.5 0.25\n",
      "1.75 0.25\n",
      "1.375\n"
     ]
    }
   ],
   "source": [
    "def F(a,b,n):\n",
    "    x = np.linspace(a, b, n+1)\n",
    "    y = x #левые концы\n",
    "    sum=0\n",
    "    for i in range(len(x)-1):\n",
    "        sum+=(x[i+1]-x[i])*y[i]\n",
    "        print(x[i],(x[i+1]-x[i]))\n",
    "    return sum\n",
    "print(F(1,2,4))\n"
   ]
  },
  {
   "cell_type": "code",
   "execution_count": 54,
   "id": "391ed1ae",
   "metadata": {},
   "outputs": [
    {
     "name": "stdout",
     "output_type": "stream",
     "text": [
      "2.0 0.25\n",
      "1.75 0.25\n",
      "1.5 0.25\n",
      "1.25 0.25\n",
      "1.625\n"
     ]
    }
   ],
   "source": [
    "def F(a,b,n):\n",
    "    x = np.linspace(a, b, n+1)\n",
    "    x = x[::-1]#правые\n",
    "    y = x\n",
    "    sum=0\n",
    "    for i in range(len(x)-1):\n",
    "        sum+=(x[i]-x[i+1])*y[i]\n",
    "        print(x[i],(x[i]-x[i+1]))\n",
    "    return sum\n",
    "print(F(1,2,4))"
   ]
  },
  {
   "cell_type": "markdown",
   "id": "79a1ff90",
   "metadata": {},
   "source": [
    "4 задание"
   ]
  },
  {
   "cell_type": "code",
   "execution_count": 55,
   "id": "6b51cd98",
   "metadata": {},
   "outputs": [
    {
     "name": "stdout",
     "output_type": "stream",
     "text": [
      "Верхняя и нижняя суммы Дарбу: (1.5005000000000004, 1.4995000000000003)\n"
     ]
    }
   ],
   "source": [
    "def F(a,b,n):   \n",
    "    delta=(b-a)/n\n",
    "    sum_verx=0\n",
    "    sum_niz=0 \n",
    "\n",
    "    def f(x):\n",
    "        return x\n",
    "    \n",
    "    for i in range(n):\n",
    "        x=np.linspace(a+delta*i,a+delta*(i+1),n)\n",
    "        \n",
    "        M=max(f(x))\n",
    "        m=min(f(x))\n",
    "        sum_verx+=M*delta\n",
    "        sum_niz+=m*delta\n",
    "    return (sum_verx,sum_niz)\n",
    "\n",
    "    \n",
    "print('Верхняя и нижняя суммы Дарбу:',F(1,2,1000))\n",
    "#cуммы Дарбу более точные, полсколку мы берем супремумы и инфинумы на отрезках\n",
    "#А не просто крайние точки\n",
    "#Чем больше мы берем отрезков при разбиении,тем точнее результат интегральной суммы\n",
    "#И тем меньше различие между верхней и нижней суммами"
   ]
  },
  {
   "cell_type": "markdown",
   "id": "5d0793ab",
   "metadata": {},
   "source": [
    "5 задание"
   ]
  },
  {
   "cell_type": "code",
   "execution_count": 56,
   "id": "9e47f7f6",
   "metadata": {},
   "outputs": [
    {
     "name": "stdout",
     "output_type": "stream",
     "text": [
      "Нижняя интегральная сумма: 0.13543209505916662\n",
      "Верхняя интегральная сумма: 0.13508253125688358\n",
      "Верхняя и нижняя суммы Дарбу: (0.1354320950591664, 0.1350825312568837)\n"
     ]
    }
   ],
   "source": [
    "def F_niz(a,b,n):\n",
    "    x = np.linspace(a, b, n+1)\n",
    "    y=[]\n",
    "    for i in range(len(x)):\n",
    "        d=np.e**(-x[i]**2)#левые концы\n",
    "        y.append(d)\n",
    "    sum=0\n",
    "    for i in range(len(x)-1):\n",
    "        sum+=(x[i+1]-x[i])*y[i]\n",
    "    return sum\n",
    "print('Нижняя интегральная сумма:',F_niz(1,2,1000))\n",
    "\n",
    "def F_verx(a,b,n):\n",
    "    x = np.linspace(a, b, n+1)\n",
    "    x = x[::-1]#правые\n",
    "    y=[]\n",
    "    for i in range(len(x)):\n",
    "        d=np.e**(-x[i]**2)#левые концы\n",
    "        y.append(d)\n",
    "    sum=0\n",
    "    for i in range(len(x)-1):\n",
    "        sum+=(x[i]-x[i+1])*y[i]    \n",
    "    return sum\n",
    "print('Верхняя интегральная сумма:',F_verx(1,2,1000))\n",
    "\n",
    "def F(a,b,n):   \n",
    "    delta=(b-a)/n\n",
    "    sum_verx=0\n",
    "    sum_niz=0 \n",
    "\n",
    "    def f(x):\n",
    "        return np.exp(-x**2)\n",
    "    \n",
    "    for i in range(n):\n",
    "        x=np.linspace(a+delta*i,a+delta*(i+1),1000)\n",
    "        \n",
    "        M=max(f(x))\n",
    "        m=min(f(x))\n",
    "        sum_verx+=M*delta\n",
    "        sum_niz+=m*delta\n",
    "    return (sum_verx,sum_niz)\n",
    "print('Верхняя и нижняя суммы Дарбу:',F(1,2,1000))"
   ]
  },
  {
   "cell_type": "markdown",
   "id": "847b48b4",
   "metadata": {},
   "source": [
    "6 задание"
   ]
  },
  {
   "cell_type": "code",
   "execution_count": 57,
   "id": "15ed71a4",
   "metadata": {},
   "outputs": [
    {
     "name": "stdout",
     "output_type": "stream",
     "text": [
      "по формуле Симпсона с разбиением на 100 интервалов: 0.13525725749864728\n",
      "по формуле Симпсона с разбиением на 1000 интервалов: 0.13525725794995166\n",
      "Разность: -4.513043827536478e-10\n"
     ]
    }
   ],
   "source": [
    "import scipy.integrate as integrate\n",
    "x = np.linspace(1,2,100)\n",
    "a=integrate.simpson(np.exp(-x**2),x)\n",
    "print('по формуле Симпсона с разбиением на 100 интервалов:',a)\n",
    "x = np.linspace(1,2,1000)\n",
    "b=integrate.simpson(np.exp(-x**2),x)\n",
    "print('по формуле Симпсона с разбиением на 1000 интервалов:',b)\n",
    "print('Разность:',a-b)\n"
   ]
  },
  {
   "cell_type": "markdown",
   "id": "76785d8e",
   "metadata": {},
   "source": [
    "С1"
   ]
  },
  {
   "cell_type": "code",
   "execution_count": 58,
   "id": "e86b343a",
   "metadata": {},
   "outputs": [
    {
     "name": "stdout",
     "output_type": "stream",
     "text": [
      "     ⎛√2⋅(x + 1)⎞\n",
      "asinh⎜──────────⎟\n",
      "     ⎝    2     ⎠\n"
     ]
    }
   ],
   "source": [
    "from sympy import integrate\n",
    "x=symbols('x')\n",
    "I=integrate(1/sqrt(x**2+2*x+3),x)\n",
    "pprint(I)\n",
    "#ln((x+1)+sqrt((x+1)^2+2))+c\n",
    "#В питоне мы получили гиперболичесикй аркосинус, это тоже самое что и длинный логарифм\n"
   ]
  },
  {
   "cell_type": "markdown",
   "id": "c6e6f476",
   "metadata": {},
   "source": [
    "С2"
   ]
  },
  {
   "cell_type": "code",
   "execution_count": 59,
   "id": "733f770e",
   "metadata": {},
   "outputs": [
    {
     "data": {
      "text/plain": [
       "0.3121329763408383"
      ]
     },
     "execution_count": 59,
     "metadata": {},
     "output_type": "execute_result"
    }
   ],
   "source": [
    "import scipy.integrate as integrate\n",
    "x = np.linspace(0,np.pi/2,1000)\n",
    "integrate.simpson(x*np.cos(x**2),x)"
   ]
  },
  {
   "cell_type": "markdown",
   "id": "0b12a806",
   "metadata": {},
   "source": [
    "C3"
   ]
  },
  {
   "cell_type": "code",
   "execution_count": 3,
   "id": "6ee1953a",
   "metadata": {},
   "outputs": [
    {
     "name": "stdout",
     "output_type": "stream",
     "text": [
      "Сумма слева: (1.515625, 1.515625)\n",
      "Сумма справа: (1.4, 1.4)\n"
     ]
    }
   ],
   "source": [
    "\n",
    "def F(f,a,b,n,lamba: str):   \n",
    "    delta=(b-a)/n\n",
    "    lambda1, lambda2 = map(int, lamba.split(\":\"))\n",
    "    #(b-a)=x*(lamba+1)->x=delta/(lamba+1)\n",
    "    I=0\n",
    "    for i in range(n):\n",
    "        I+=delta * f(a+delta*i+lambda1*delta/(lambda1 + lambda2))\n",
    "    I1=0\n",
    "    for i in range(n):\n",
    "        I1+=delta * f(b-delta*i-lambda2*delta/(lambda1+lambda2))\n",
    "    return (I,I1)\n",
    "   \n",
    "def f(x):\n",
    "    return x\n",
    "print('Сумма слева:',F(f,1,2,4,\"9:7\"))\n",
    "print('Сумма справа:',F(f,1,2,4,\"1:9\"))"
   ]
  },
  {
   "cell_type": "markdown",
   "id": "6fe10361",
   "metadata": {},
   "source": [
    "ИНД 1"
   ]
  },
  {
   "cell_type": "code",
   "execution_count": 66,
   "id": "ace8431c",
   "metadata": {},
   "outputs": [
    {
     "name": "stdout",
     "output_type": "stream",
     "text": [
      "7.5\n",
      "7.5\n",
      "7.5\n",
      "7.5\n",
      "7.5\n",
      "7.5\n",
      "7.5\n",
      "7.5\n",
      "7.5\n",
      "7.5\n"
     ]
    }
   ],
   "source": [
    "def f(x):\n",
    "    return x!!!!\n",
    "\n",
    "for i in range(1,11):\n",
    "    print(F(f,1,4,2**i,1))\n",
    "\n"
   ]
  },
  {
   "cell_type": "code",
   "execution_count": 68,
   "id": "8adcfb4c",
   "metadata": {},
   "outputs": [
    {
     "name": "stdout",
     "output_type": "stream",
     "text": [
      "Верхняя и нижняя суммы Дарбу: (9.75, 5.25)\n",
      "Верхняя и нижняя суммы Дарбу: (8.625, 6.375)\n",
      "Верхняя и нижняя суммы Дарбу: (8.0625, 6.9375)\n",
      "Верхняя и нижняя суммы Дарбу: (7.78125, 7.21875)\n",
      "Верхняя и нижняя суммы Дарбу: (7.640625, 7.359375)\n",
      "Верхняя и нижняя суммы Дарбу: (7.5703125, 7.4296875)\n",
      "Верхняя и нижняя суммы Дарбу: (7.53515625, 7.46484375)\n",
      "Верхняя и нижняя суммы Дарбу: (7.517578125, 7.482421875)\n",
      "Верхняя и нижняя суммы Дарбу: (7.5087890625, 7.4912109375)\n",
      "Верхняя и нижняя суммы Дарбу: (7.50439453125, 7.49560546875)\n"
     ]
    }
   ],
   "source": [
    "def f(x):\n",
    "    return x!!!!\n",
    "def F(f,a,b,n):   \n",
    "    delta=(b-a)/n\n",
    "    sum_verx=0\n",
    "    sum_niz=0 \n",
    "    \n",
    "    for i in range(n):\n",
    "        x=np.linspace(a+delta*i,a+delta*(i+1),n)\n",
    "        \n",
    "        M=max(f(x))\n",
    "        m=min(f(x))\n",
    "        sum_verx+=M*delta\n",
    "        sum_niz+=m*delta\n",
    "    return (sum_verx,sum_niz)\n",
    "for i in range(1,11):\n",
    "    print('Верхняя и нижняя суммы Дарбу:',F(f,1,4,2**i))\n"
   ]
  },
  {
   "cell_type": "code",
   "execution_count": 9,
   "id": "d10bb474",
   "metadata": {},
   "outputs": [
    {
     "name": "stdout",
     "output_type": "stream",
     "text": [
      "0.0000\n",
      "0.0120\n",
      "0.0225\n",
      "0.0303\n",
      "0.0345\n",
      "0.0345\n",
      "0.0303\n",
      "0.0225\n",
      "0.0120\n",
      "0.0000\n"
     ]
    },
    {
     "ename": "",
     "evalue": "",
     "output_type": "error",
     "traceback": [
      "\u001b[1;31mThe Kernel crashed while executing code in the current cell or a previous cell. \n",
      "\u001b[1;31mPlease review the code in the cell(s) to identify a possible cause of the failure. \n",
      "\u001b[1;31mClick <a href='https://aka.ms/vscodeJupyterKernelCrash'>here</a> for more info. \n",
      "\u001b[1;31mView Jupyter <a href='command:jupyter.viewOutput'>log</a> for further details."
     ]
    }
   ],
   "source": [
    "import numpy as np\n",
    "x = \n",
    "for i in range\n",
    "print(x*0.1)"
   ]
  }
 ],
 "metadata": {
  "kernelspec": {
   "display_name": "Python 3",
   "language": "python",
   "name": "python3"
  },
  "language_info": {
   "codemirror_mode": {
    "name": "ipython",
    "version": 3
   },
   "file_extension": ".py",
   "mimetype": "text/x-python",
   "name": "python",
   "nbconvert_exporter": "python",
   "pygments_lexer": "ipython3",
   "version": "3.11.9"
  }
 },
 "nbformat": 4,
 "nbformat_minor": 5
}
