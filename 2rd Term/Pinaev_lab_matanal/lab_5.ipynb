{
 "cells": [
  {
   "cell_type": "code",
   "execution_count": 1,
   "id": "7f92d326-a7d1-46f3-9a84-79be60deb967",
   "metadata": {},
   "outputs": [],
   "source": [
    "import sympy as sp\n",
    "import numpy as np\n",
    "import matplotlib.pyplot as plt"
   ]
  },
  {
   "cell_type": "code",
   "execution_count": 2,
   "id": "133445f5",
   "metadata": {},
   "outputs": [],
   "source": [
    "#1 упражнение"
   ]
  },
  {
   "cell_type": "code",
   "execution_count": 3,
   "id": "02ee8209",
   "metadata": {},
   "outputs": [
    {
     "name": "stdout",
     "output_type": "stream",
     "text": [
      "sympy\n",
      "cos(pi*1/2) = 0\n",
      "cos(pi*2/2) = -1\n",
      "cos(pi*3/2) = 0\n",
      "cos(pi*4/2) = 1\n",
      "cos(pi*5/2) = 0\n",
      "cos(pi*6/2) = -1\n",
      "cos(pi*7/2) = 0\n",
      "cos(pi*8/2) = 1\n",
      "cos(pi*9/2) = 0\n",
      "cos(pi*10/2) = -1\n",
      "numpy\n",
      "cos(pi*1/2) = 6.123233995736766e-17\n",
      "cos(pi*2/2) = -1.0\n",
      "cos(pi*3/2) = -1.8369701987210297e-16\n",
      "cos(pi*4/2) = 1.0\n",
      "cos(pi*5/2) = 3.061616997868383e-16\n",
      "cos(pi*6/2) = -1.0\n",
      "cos(pi*7/2) = -4.286263797015736e-16\n",
      "cos(pi*8/2) = 1.0\n",
      "cos(pi*9/2) = 5.51091059616309e-16\n",
      "cos(pi*10/2) = -1.0\n",
      "Проверка:\n",
      "True\n",
      "True\n",
      "True\n",
      "True\n",
      "True\n"
     ]
    }
   ],
   "source": [
    "print(\"sympy\")\n",
    "a = [f\"cos(pi*{k}/2) = \" + str(sp.cos(sp.pi * k / 2)) for k in range(1,11) ]\n",
    "\n",
    "for i in a:\n",
    "    print(i)\n",
    "print(\"numpy\")\n",
    "b = [f\"cos(pi*{k}/2) = \" + str(np.cos(np.pi * k / 2)) for k in range(1,11) ]\n",
    "\n",
    "for j in b:\n",
    "    print(j)\n",
    "print(\"Проверка:\")\n",
    "print(np.isclose(6.123233995736766e-17, 0))\n",
    "print(np.isclose(-1.8369701987210297e-16, 0))\n",
    "print(np.isclose(3.061616997868383e-16, 0))\n",
    "print(np.isclose(-4.286263797015736e-16, 0))\n",
    "print(np.isclose(5.51091059616309e-16, 0))\n"
   ]
  },
  {
   "cell_type": "code",
   "execution_count": 4,
   "id": "e26c15fa",
   "metadata": {},
   "outputs": [],
   "source": [
    "#3 упражнение"
   ]
  },
  {
   "cell_type": "code",
   "execution_count": 5,
   "id": "a5334f62",
   "metadata": {},
   "outputs": [
    {
     "name": "stdout",
     "output_type": "stream",
     "text": [
      " 7      2    \n",
      "x  + 3⋅x  - 4\n",
      "─────────────\n",
      "    x - 1    \n",
      "\n",
      " after factor = x**6 + x**5 + x**4 + x**3 + x**2 + 4*x + 4\n",
      "\n",
      " after simplify = (x**7 + 3*x**2 - 4)/(x - 1)\n"
     ]
    }
   ],
   "source": [
    "\n",
    "from sympy.abc import x,y\n",
    "v = (x**7+3*x**2-4)/(x-1)\n",
    "sp.pprint(v)\n",
    "print('\\n after factor = '+str(sp.factor(v)))\n",
    "print('\\n after simplify = '+str(sp.simplify(v)))\n",
    "\n"
   ]
  },
  {
   "cell_type": "code",
   "execution_count": 6,
   "id": "fc060f89",
   "metadata": {},
   "outputs": [],
   "source": [
    "#4 упражнение"
   ]
  },
  {
   "cell_type": "code",
   "execution_count": 7,
   "id": "a31103f7",
   "metadata": {},
   "outputs": [
    {
     "name": "stdout",
     "output_type": "stream",
     "text": [
      "\n",
      " after factor = (x**2 - 2*x + 2)*(x**2 + 2*x + 2)\n",
      "\n",
      " after factor = (x + 1)*(x**6 - x**5 + x**4 - x**3 + x**2 - x + 1)\n",
      "\n",
      " after factor = (x - y)*(x + 2*y)*(2*x - y)\n"
     ]
    }
   ],
   "source": [
    "v = x**4+4\n",
    "v1 = x**7+1\n",
    "v2 = 2*x**3+x**2*y-5*x*y**2+2*y**3\n",
    "\n",
    "print('\\n after factor = '+str(sp.factor(v)))\n",
    "print('\\n after factor = '+str(sp.factor(v1)))\n",
    "print('\\n after factor = '+str(sp.factor(v2)))\n"
   ]
  },
  {
   "cell_type": "code",
   "execution_count": 8,
   "id": "0ddc6076",
   "metadata": {},
   "outputs": [],
   "source": [
    "#5упражнение"
   ]
  },
  {
   "cell_type": "code",
   "execution_count": 9,
   "id": "3a2bc215",
   "metadata": {},
   "outputs": [
    {
     "name": "stdout",
     "output_type": "stream",
     "text": [
      "⎛                      _________   ⎞\n",
      "⎜        1            ╱ 3   √13    ⎟\n",
      "⎜- ───────────── + 3 ╱  ─ + ─── , ∞⎟\n",
      "⎜      _________   ╲╱   2    2     ⎟\n",
      "⎜     ╱ 3   √13                    ⎟\n",
      "⎜  3 ╱  ─ + ───                    ⎟\n",
      "⎝  ╲╱   2    2                     ⎠\n",
      "(0.81773, ∞)\n"
     ]
    }
   ],
   "source": [
    "a=sp.solve_univariate_inequality(x**3+3*x>3,x,relational=False)#решение в форме множества\n",
    "sp.pprint(a)\n",
    "sp.pprint(sp.N(a,5))"
   ]
  },
  {
   "cell_type": "code",
   "execution_count": 10,
   "id": "ca7fe1a7",
   "metadata": {},
   "outputs": [],
   "source": [
    "#6упражнение"
   ]
  },
  {
   "cell_type": "code",
   "execution_count": 14,
   "id": "77355f73",
   "metadata": {},
   "outputs": [],
   "source": [
    "def my_solve(xn, n0, n1, e):\n",
    "    a = sp.limit(xn, n, sp.oo)#ищем предел равный a\n",
    "    sp.plot((xn,(n, 10**n0+5, 5**n1)), (a+e, (x, 10**n0, 5**n1)), (a-e, (x, 10**n0, 5**n1)))"
   ]
  },
  {
   "cell_type": "code",
   "execution_count": 15,
   "id": "01340ddb",
   "metadata": {},
   "outputs": [
    {
     "data": {
      "image/png": "[encoded data removed]",
      "text/plain": [
       "<Figure size 640x480 with 1 Axes>"
      ]
     },
     "metadata": {},
     "output_type": "display_data"
    },
    {
     "name": "stdout",
     "output_type": "stream",
     "text": [
      "(7.46321168040309, ∞)\n",
      "n(0.01) = 7 (При n>7 все значения все значения функции будут лежать в коридора a-0.01<a<a+0.01)\n"
     ]
    },
    {
     "ename": "",
     "evalue": "",
     "output_type": "error",
     "traceback": [
      "\u001b[1;31mThe Kernel crashed while executing code in the the current cell or a previous cell. Please review the code in the cell(s) to identify a possible cause of the failure. Click <a href='https://aka.ms/vscodeJupyterKernelCrash'>here</a> for more info. View Jupyter <a href='command:jupyter.viewOutput'>log</a> for further details."
     ]
    }
   ],
   "source": [
    "#1 предел\n",
    "n = sp.Symbol('n')\n",
    "xn = ((n ** 3) - 1)/((2 * (n ** 3)) + (2 * n))\n",
    "n0 = -2\n",
    "n1 =3\n",
    "e = 0.01\n",
    "c\n",
    "a = sp.limit(xn, n, sp.oo)#ищем предел равный a\n",
    "e1 = sp.solve_univariate_inequality(sp.Abs((((n ** 3) - 1)/((2 * (n ** 3)) + (2 * n)))-a) < e, n, relational=False)#расписываем предел по определению и решаем модульное неравенство\n",
    "e2 = sp.solve_univariate_inequality(n > 0, n, relational=False)#убираем n<0, т.к n-натур.числа\n",
    "sp.pprint(sp.Intersection(e1,e2))#ищем пересечение\n",
    "print('n(0.01) = 7 (При n>7 все значения все значения функции будут лежать в коридора a-0.01<a<a+0.01)')\n",
    "\n",
    " "
   ]
  },
  {
   "cell_type": "code",
   "execution_count": 13,
   "id": "36ec1415",
   "metadata": {},
   "outputs": [
    {
     "ename": "NameError",
     "evalue": "name 'oo' is not defined",
     "output_type": "error",
     "traceback": [
      "\u001b[1;31m---------------------------------------------------------------------------\u001b[0m",
      "\u001b[1;31mNameError\u001b[0m                                 Traceback (most recent call last)",
      "\u001b[1;32mc:\\Users\\вольвокс\\Desktop\\лабы\\Pinaev_lab_matanal\\lab_5.ipynb Cell 13\u001b[0m line \u001b[0;36m7\n\u001b[0;32m      <a href='vscode-notebook-cell:/c%3A/Users/%D0%B2%D0%BE%D0%BB%D1%8C%D0%B2%D0%BE%D0%BA%D1%81/Desktop/%D0%BB%D0%B0%D0%B1%D1%8B/Pinaev_lab_matanal/lab_5.ipynb#X15sZmlsZQ%3D%3D?line=4'>5</a>\u001b[0m n1 \u001b[39m=\u001b[39m \u001b[39m4\u001b[39m\n\u001b[0;32m      <a href='vscode-notebook-cell:/c%3A/Users/%D0%B2%D0%BE%D0%BB%D1%8C%D0%B2%D0%BE%D0%BA%D1%81/Desktop/%D0%BB%D0%B0%D0%B1%D1%8B/Pinaev_lab_matanal/lab_5.ipynb#X15sZmlsZQ%3D%3D?line=5'>6</a>\u001b[0m e \u001b[39m=\u001b[39m \u001b[39m0.001\u001b[39m\n\u001b[1;32m----> <a href='vscode-notebook-cell:/c%3A/Users/%D0%B2%D0%BE%D0%BB%D1%8C%D0%B2%D0%BE%D0%BA%D1%81/Desktop/%D0%BB%D0%B0%D0%B1%D1%8B/Pinaev_lab_matanal/lab_5.ipynb#X15sZmlsZQ%3D%3D?line=6'>7</a>\u001b[0m my_solve(xn, n0, n1, e)\n\u001b[0;32m      <a href='vscode-notebook-cell:/c%3A/Users/%D0%B2%D0%BE%D0%BB%D1%8C%D0%B2%D0%BE%D0%BA%D1%81/Desktop/%D0%BB%D0%B0%D0%B1%D1%8B/Pinaev_lab_matanal/lab_5.ipynb#X15sZmlsZQ%3D%3D?line=7'>8</a>\u001b[0m a \u001b[39m=\u001b[39m sp\u001b[39m.\u001b[39mlimit(xn, n, oo)\u001b[39m#ищем предел равный a\u001b[39;00m\n\u001b[0;32m      <a href='vscode-notebook-cell:/c%3A/Users/%D0%B2%D0%BE%D0%BB%D1%8C%D0%B2%D0%BE%D0%BA%D1%81/Desktop/%D0%BB%D0%B0%D0%B1%D1%8B/Pinaev_lab_matanal/lab_5.ipynb#X15sZmlsZQ%3D%3D?line=8'>9</a>\u001b[0m \u001b[39m#e1 = sp.solve_univariate_inequality(sp.Abs(((n ** 3) + 2*n)/((2 * (n ** 4)) + 1)-a) < e, n, relational=False)#расписываем предел по определению и решаем модульное неравенство\u001b[39;00m\n",
      "\u001b[1;32mc:\\Users\\вольвокс\\Desktop\\лабы\\Pinaev_lab_matanal\\lab_5.ipynb Cell 13\u001b[0m line \u001b[0;36m2\n\u001b[0;32m      <a href='vscode-notebook-cell:/c%3A/Users/%D0%B2%D0%BE%D0%BB%D1%8C%D0%B2%D0%BE%D0%BA%D1%81/Desktop/%D0%BB%D0%B0%D0%B1%D1%8B/Pinaev_lab_matanal/lab_5.ipynb#X15sZmlsZQ%3D%3D?line=0'>1</a>\u001b[0m \u001b[39mdef\u001b[39;00m \u001b[39mmy_solve\u001b[39m(xn, n0, n1, e):\n\u001b[1;32m----> <a href='vscode-notebook-cell:/c%3A/Users/%D0%B2%D0%BE%D0%BB%D1%8C%D0%B2%D0%BE%D0%BA%D1%81/Desktop/%D0%BB%D0%B0%D0%B1%D1%8B/Pinaev_lab_matanal/lab_5.ipynb#X15sZmlsZQ%3D%3D?line=1'>2</a>\u001b[0m     a \u001b[39m=\u001b[39m sp\u001b[39m.\u001b[39mlimit(xn, n, oo)\u001b[39m#ищем предел равный a\u001b[39;00m\n\u001b[0;32m      <a href='vscode-notebook-cell:/c%3A/Users/%D0%B2%D0%BE%D0%BB%D1%8C%D0%B2%D0%BE%D0%BA%D1%81/Desktop/%D0%BB%D0%B0%D0%B1%D1%8B/Pinaev_lab_matanal/lab_5.ipynb#X15sZmlsZQ%3D%3D?line=2'>3</a>\u001b[0m     sp\u001b[39m.\u001b[39mplot((xn,(n, \u001b[39m10\u001b[39m\u001b[39m*\u001b[39m\u001b[39m*\u001b[39mn0\u001b[39m+\u001b[39m\u001b[39m5\u001b[39m, \u001b[39m5\u001b[39m\u001b[39m*\u001b[39m\u001b[39m*\u001b[39mn1)), (a\u001b[39m+\u001b[39me, (x, \u001b[39m10\u001b[39m\u001b[39m*\u001b[39m\u001b[39m*\u001b[39mn0, \u001b[39m5\u001b[39m\u001b[39m*\u001b[39m\u001b[39m*\u001b[39mn1)), (a\u001b[39m-\u001b[39me, (x, \u001b[39m10\u001b[39m\u001b[39m*\u001b[39m\u001b[39m*\u001b[39mn0, \u001b[39m5\u001b[39m\u001b[39m*\u001b[39m\u001b[39m*\u001b[39mn1)))\n",
      "\u001b[1;31mNameError\u001b[0m: name 'oo' is not defined"
     ]
    }
   ],
   "source": [
    "#2 предел\n",
    "n = sp.Symbol('n')\n",
    "xn = ((n ** 3) + 2*n)/((2 * (n ** 4)) + 1)\n",
    "n0 = -2\n",
    "n1 = 4\n",
    "e = 0.001\n",
    "my_solve(xn, n0, n1, e)\n",
    "a = sp.limit(xn, n, oo)#ищем предел равный a\n",
    "#e1 = sp.solve_univariate_inequality(sp.Abs(((n ** 3) + 2*n)/((2 * (n ** 4)) + 1)-a) < e, n, relational=False)#расписываем предел по определению и решаем модульное неравенство\n",
    "e2 = sp.solve_univariate_inequality(n > 0, n, relational=False)#убираем n<0, т.к n-натур.числа\n",
    "sp.pprint(sp.Intersection(e1,e2))#ищем пересечение\n",
    "print('n(0.001) = 500 (При n>500 все значения все значения функции будут лежать в коридора a-0.001<a<a+0.001)')"
   ]
  },
  {
   "cell_type": "code",
   "execution_count": null,
   "id": "db72d502",
   "metadata": {},
   "outputs": [],
   "source": [
    "#C1"
   ]
  },
  {
   "cell_type": "code",
   "execution_count": null,
   "id": "6c9dba99",
   "metadata": {},
   "outputs": [],
   "source": [
    "import sympy as sp\n",
    "from sympy.abc import x\n",
    "a = sp.solve_univariate_inequality(x**3 - 3 * x + 1 > 3, x)\n"
   ]
  },
  {
   "cell_type": "markdown",
   "id": "09233be7",
   "metadata": {},
   "source": [
    "Точный ответ"
   ]
  },
  {
   "cell_type": "code",
   "execution_count": null,
   "id": "155f11bd",
   "metadata": {},
   "outputs": [
    {
     "data": {
      "text/latex": [
       "$\\displaystyle 2 < x \\wedge x < \\infty$"
      ],
      "text/plain": [
       "(2 < x) & (x < oo)"
      ]
     },
     "execution_count": 198,
     "metadata": {},
     "output_type": "execute_result"
    }
   ],
   "source": [
    "a"
   ]
  },
  {
   "cell_type": "markdown",
   "id": "eecdf26e",
   "metadata": {},
   "source": [
    "Приближенный ответ"
   ]
  },
  {
   "cell_type": "code",
   "execution_count": null,
   "id": "b28a4c0e",
   "metadata": {},
   "outputs": [
    {
     "data": {
      "text/latex": [
       "$\\displaystyle 2.0 < x$"
      ],
      "text/plain": [
       "2.0 < x"
      ]
     },
     "execution_count": 199,
     "metadata": {},
     "output_type": "execute_result"
    }
   ],
   "source": [
    "a.args[0].evalf()"
   ]
  },
  {
   "cell_type": "markdown",
   "id": "dc954ceb",
   "metadata": {},
   "source": [
    "Ответы на контрольные вопросы:\n",
    "1) Каким образом задаются символьные переменные и массивы?\n",
    "from sympy.abc import \n",
    "2) Каким образом можно упростить символьное выражение?\n",
    "sp.simplify()\n",
    "3) Каким образом можно разложить на множители алгебраическое\n",
    "выражение или натуральное число?\n",
    "--sp.factor()\n",
    "4) В каком случае при решении неравенства выдаётся символьное\n",
    "выражение?\n",
    "--Когда решение содержит иррациональное число<br/>\n",
    "5) Как получить численное решение неравенства?</i></b><br/>\n",
    "sp.solve_univariate_inequality<br/>\n",
    "6) Дайте определение предела последовательности.</i></b><br/>\n",
    "$a = \\displaystyle\\lim_{x\\to+\\infty}{\\{x_n\\}} => \\forall \\varepsilon > 0 \\exist N \\in \\N: \\forall n > N |x_n - a| < \\varepsilon$"
   ]
  }
 ],
 "metadata": {
  "kernelspec": {
   "display_name": "Python 3 (ipykernel)",
   "language": "python",
   "name": "python3"
  },
  "language_info": {
   "codemirror_mode": {
    "name": "ipython",
    "version": 3
   },
   "file_extension": ".py",
   "mimetype": "text/x-python",
   "name": "python",
   "nbconvert_exporter": "python",
   "pygments_lexer": "ipython3",
   "version": "3.11.6"
  }
 },
 "nbformat": 4,
 "nbformat_minor": 5
}
