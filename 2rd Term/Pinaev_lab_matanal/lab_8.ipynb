{
 "cells": [
  {
   "cell_type": "code",
   "execution_count": 53,
   "metadata": {},
   "outputs": [],
   "source": [
    "import sympy as sp\n",
    "import numpy as np\n",
    "from sympy import *\n"
   ]
  },
  {
   "attachments": {},
   "cell_type": "markdown",
   "metadata": {},
   "source": [
    "1 задание"
   ]
  },
  {
   "cell_type": "code",
   "execution_count": 54,
   "metadata": {},
   "outputs": [
    {
     "name": "stdout",
     "output_type": "stream",
     "text": [
      "x= 0\n",
      "dy= 0.000 dx= 0.0\n",
      "dy= 0.010 dx= 0.1\n",
      "dy= 0.040 dx= 0.2\n",
      "dy= 0.090 dx= 0.3\n",
      "dy= 0.160 dx= 0.4\n",
      "dy= 0.250 dx= 0.5\n",
      "dy= 0.360 dx= 0.6\n",
      "dy= 0.490 dx= 0.7\n",
      "dy= 0.640 dx= 0.8\n",
      "dy= 0.810 dx= 0.9\n",
      "dy= 1.000 dx= 1.0\n",
      "None\n",
      "x= 2\n",
      "dy= 0.000 dx= 0.0\n",
      "dy= 0.410 dx= 0.1\n",
      "dy= 0.840 dx= 0.2\n",
      "dy= 1.290 dx= 0.3\n",
      "dy= 1.760 dx= 0.4\n",
      "dy= 2.250 dx= 0.5\n",
      "dy= 2.760 dx= 0.6\n",
      "dy= 3.290 dx= 0.7\n",
      "dy= 3.840 dx= 0.8\n",
      "dy= 4.410 dx= 0.9\n",
      "dy= 5.000 dx= 1.0\n",
      "None\n",
      "x= -9\n",
      "dy= 0.000 dx= 0.0\n",
      "dy= -1.790 dx= 0.1\n",
      "dy= -3.560 dx= 0.2\n",
      "dy= -5.310 dx= 0.3\n",
      "dy= -7.040 dx= 0.4\n",
      "dy= -8.750 dx= 0.5\n",
      "dy= -10.440 dx= 0.6\n",
      "dy= -12.110 dx= 0.7\n",
      "dy= -13.760 dx= 0.8\n",
      "dy= -15.390 dx= 0.9\n",
      "dy= -17.000 dx= 1.0\n",
      "None\n"
     ]
    }
   ],
   "source": [
    "def fun(x):\n",
    "    deltax=np.arange(0,1.1,0.1)\n",
    "    print('x=',x)\n",
    "    for i in deltax:\n",
    "        y=(x+i)**2-((x)**2)\n",
    "        print('dy=',\"%0.3f\"%y,'dx=',\"%0.1f\"%i)\n",
    "    \n",
    "x1=0\n",
    "x2=2\n",
    "x3=-9\n",
    "print(fun(x1))\n",
    "print(fun(x2))\n",
    "print(fun(x3))"
   ]
  },
  {
   "attachments": {},
   "cell_type": "markdown",
   "metadata": {},
   "source": [
    "2 задание"
   ]
  },
  {
   "cell_type": "code",
   "execution_count": 55,
   "metadata": {},
   "outputs": [
    {
     "name": "stdout",
     "output_type": "stream",
     "text": [
      "x= 1\n",
      "dy= 1.000 dx= -0.50\n",
      "dy= 0.818 dx= -0.45\n",
      "dy= 0.667 dx= -0.40\n",
      "dy= 0.538 dx= -0.35\n",
      "dy= 0.429 dx= -0.30\n",
      "dy= 0.333 dx= -0.25\n",
      "dy= 0.250 dx= -0.20\n",
      "dy= 0.176 dx= -0.15\n",
      "dy= 0.111 dx= -0.10\n",
      "dy= 0.053 dx= -0.05\n",
      "dy= 0.000 dx= -0.00\n",
      "dy= -0.048 dx= 0.05\n",
      "dy= -0.091 dx= 0.10\n",
      "dy= -0.130 dx= 0.15\n",
      "dy= -0.167 dx= 0.20\n",
      "dy= -0.200 dx= 0.25\n",
      "dy= -0.231 dx= 0.30\n",
      "dy= -0.259 dx= 0.35\n",
      "dy= -0.286 dx= 0.40\n",
      "dy= -0.310 dx= 0.45\n",
      "dy= -0.333 dx= 0.50\n",
      "None\n"
     ]
    }
   ],
   "source": [
    "def fun(x):\n",
    "    deltax=np.arange(-0.5,0.55,0.05)\n",
    "    print('x=',x)\n",
    "    for i in deltax:\n",
    "        y=1/(x+i)-1/(x)\n",
    "        print('dy=',\"%0.3f\"%y,'dx=',\"%0.2f\"%i)\n",
    "\n",
    "print(fun(1))\n"
   ]
  },
  {
   "attachments": {},
   "cell_type": "markdown",
   "metadata": {},
   "source": [
    "3 задание"
   ]
  },
  {
   "cell_type": "code",
   "execution_count": 66,
   "metadata": {},
   "outputs": [
    {
     "name": "stdout",
     "output_type": "stream",
     "text": [
      "x= 0.5\n",
      "[0.67489888 0.70360617 0.70675358]\n",
      "x= 1\n",
      "[0.48808848 0.49875621 0.49987506]\n",
      "x= 2\n",
      "[0.34924112 0.35311255 0.35350921]\n"
     ]
    }
   ],
   "source": [
    "def fun(x,dx):\n",
    "    print('x=',x)\n",
    "    dy=(x+dx)**(1/2)-((x)**(1/2))\n",
    "    return dy/dx\n",
    "\n",
    "dx=np.array([0.1,0.01,0.001])\n",
    "print(fun(0.5,dx))\n",
    "print(fun(1,dx))\n",
    "print(fun(2,dx))"
   ]
  },
  {
   "attachments": {},
   "cell_type": "markdown",
   "metadata": {},
   "source": [
    "4 задание"
   ]
  },
  {
   "cell_type": "code",
   "execution_count": 57,
   "metadata": {},
   "outputs": [
    {
     "name": "stdout",
     "output_type": "stream",
     "text": [
      "x= [ 1  2 -3]\n",
      "[0.33322228 0.20995185 0.16026776]\n",
      "x= [ 1  2 -3]\n",
      "[0.33344451 0.21002185 0.16023215]\n"
     ]
    }
   ],
   "source": [
    "#y=cbrt(3)\n",
    "def fun(x,dx):\n",
    "   dy=np.cbrt(x+dx)-np.cbrt(x)\n",
    "   return dy\n",
    "def big_fun(fun,x,dx):\n",
    "   print('x=',x)\n",
    "   p1=fun(x,dx)/dx\n",
    "   return p1\n",
    "x=np.array([1,2,-3])\n",
    "\n",
    "print(big_fun(fun,x,0.001))\n",
    "print(big_fun(fun,x,-0.001))\n",
    "\n"
   ]
  },
  {
   "cell_type": "code",
   "execution_count": 58,
   "metadata": {},
   "outputs": [
    {
     "name": "stdout",
     "output_type": "stream",
     "text": [
      "x= 1 dx=0.001  1.3868\n",
      "x= 1 dx=-0.001  1.3858\n",
      "x= 2 dx=0.001  2.7735\n",
      "x= 2 dx=-0.001  2.7716\n",
      "x= -3 dx=0.001 -0.0866\n",
      "x= -3 dx=-0.001 -0.0867\n"
     ]
    }
   ],
   "source": [
    "#y=2**x\n",
    "def fun1(x,dx):\n",
    "   if x < 0:\n",
    "      dy=np.power(1/2,-x+dx)-np.power(1/2,-x)\n",
    "      return dy\n",
    "   dy=np.power(2,x+dx)-np.power(2,x)\n",
    "   return dy\n",
    "def big_fun1(fun1,x,dx):\n",
    "   #print('x=',x)\n",
    "   p1=fun1(x,dx)/dx\n",
    "   return p1\n",
    "x=np.array([1,2,-3])\n",
    "for x0 in x:\n",
    "   print('x=',x0,'dx=0.001',f'{big_fun1(fun1,x0,0.001) : 2.4f}')\n",
    "   print('x=',x0,'dx=-0.001',f'{big_fun1(fun1,x0,-0.001): 2.4f}')"
   ]
  },
  {
   "attachments": {},
   "cell_type": "markdown",
   "metadata": {},
   "source": [
    "5 задание(производная по определению это Lim при (dx->0) от (dy/dx) )"
   ]
  },
  {
   "cell_type": "code",
   "execution_count": 59,
   "metadata": {},
   "outputs": [
    {
     "name": "stdout",
     "output_type": "stream",
     "text": [
      "0.333333333333333\n",
      "0.209986841649146\n",
      "0.160249952256379\n"
     ]
    }
   ],
   "source": [
    "#y=cbrt(3)\n",
    "dx=symbols('dx')\n",
    "def fun(x):\n",
    "   if x>0:\n",
    "      dy=sp.cbrt((x+dx))-sp.cbrt(x)\n",
    "      return (dy/dx)\n",
    "\n",
    "   else:\n",
    "      dy = real_root(x+dx, 3)-real_root(x, 3)\n",
    "      return (dy/dx)\n",
    "\n",
    "\n",
    "def big_fun(fun,x):\n",
    "   p1=sp.limit(fun(x),dx,0)\n",
    "   return p1\n",
    "\n",
    "print(big_fun(fun,1).evalf())\n",
    "print(big_fun(fun,2).evalf())\n",
    "print(big_fun(fun,-3).evalf())\n"
   ]
  },
  {
   "cell_type": "code",
   "execution_count": 60,
   "metadata": {},
   "outputs": [
    {
     "name": "stdout",
     "output_type": "stream",
     "text": [
      "1.38629436111989\n",
      "2.77258872223978\n",
      "0.0866433975699932\n"
     ]
    }
   ],
   "source": [
    "#y=2**x\n",
    "dx=symbols('dx')\n",
    "def fun(x):\n",
    "      dy=Pow(2,x+dx)-Pow(2,x)\n",
    "      return (dy/dx)\n",
    "\n",
    "def big_fun(fun,x):\n",
    "   p1=sp.limit(fun(x),dx,0)\n",
    "   return p1\n",
    "\n",
    "print(big_fun(fun,1).evalf())\n",
    "print(big_fun(fun,2).evalf())\n",
    "print(big_fun(fun,-3).evalf())\n",
    "\n"
   ]
  },
  {
   "attachments": {},
   "cell_type": "markdown",
   "metadata": {},
   "source": [
    "|     |$y=cbrt(x)$|$y=2^x$ |\n",
    "|-----|-----------|--------|\n",
    "|x0=1 |0.33322... |~1.387  |\n",
    "|     |0.33344... |~1.386  |\n",
    "|x0=2 |0.20995... |~2.774  |\n",
    "|     |~2.1       |~2.772  |\n",
    "|x0=-3|0.160267...|~0.0867 |\n",
    "|     |0.160232...|~0.0866 |"
   ]
  },
  {
   "attachments": {},
   "cell_type": "markdown",
   "metadata": {},
   "source": [
    "6 задание"
   ]
  },
  {
   "cell_type": "code",
   "execution_count": 61,
   "metadata": {},
   "outputs": [
    {
     "name": "stdout",
     "output_type": "stream",
     "text": [
      "0.580279834244736\n",
      "1.49767622206277\n"
     ]
    }
   ],
   "source": [
    "x=symbols('x')\n",
    "f1=((sp.atan(x**(1/2))))**2\n",
    "f2=3**(sp.asin(x**2))\n",
    "y1=diff(f1,x,1)\n",
    "y2=diff(f2,x,1)\n",
    "\n",
    "print(y1.subs(x,0.5))\n",
    "print(y2.subs(x,0.5).evalf())\n"
   ]
  },
  {
   "cell_type": "code",
   "execution_count": null,
   "metadata": {},
   "outputs": [
    {
     "name": "stderr",
     "output_type": "stream",
     "text": [
      "C:\\Users\\8230824\\AppData\\Local\\Temp\\ipykernel_3820\\1962677831.py:24: MatplotlibDeprecationWarning: Auto-removal of overlapping axes is deprecated since 3.6 and will be removed two minor releases later; explicitly call ax.remove() as needed.\n",
      "  plt.subplot(2,1,1)\n"
     ]
    },
    {
     "data": {
      "text/plain": [
       "Text(0.5, 1.0, 'Tangent Line e^2x')"
      ]
     },
     "execution_count": 62,
     "metadata": {},
     "output_type": "execute_result"
    },
    {
     "data": {
      "image/png": "[encoded data removed]",
      "text/plain": [
       "<Figure size 640x480 with 2 Axes>"
      ]
     },
     "metadata": {},
     "output_type": "display_data"
    }
   ],
   "source": [
    "# УПРАЖНЕНИЕ 7\n",
    "import matplotlib.pyplot as plt\n",
    "import numpy as np \n",
    "from sympy import *\n",
    "\n",
    "def plot_tangent_line(func, x0):\n",
    "    x = Symbol('x')\n",
    "    x_value = np.linspace(x0-1, x0+1, 100)\n",
    "    f_prime = diff(func,x,1)\n",
    "    f_x0 = f_prime.subs(x, x0)\n",
    "    tangent_equation = func.subs(x, x0) + f_x0 * (x - x0)\n",
    "    t_l = np.array([tangent_equation.subs(x, i) for i in x_value])\n",
    "    f_v = np.array([func.subs(x,i) for i in x_value])\n",
    "    plt.plot(x_value, t_l)\n",
    "    plt.plot(x_value, f_v)\n",
    "\n",
    "x = Symbol('x')\n",
    "plt.grid()\n",
    "plt.axhline(y=0, color='k')\n",
    "plt.axvline(x=0, color='k')\n",
    "plt.ylabel('y')\n",
    "plt.xlabel('x')\n",
    "\n",
    "plt.subplot(2,1,1)\n",
    "f = cos(3*x)**3\n",
    "plot_tangent_line(f, np.pi/4)\n",
    "\n",
    "plt.title('Tangent Line cos^3 (3x)')\n",
    "\n",
    "plt.subplot(2,1,2)\n",
    "f = exp(2*x)\n",
    "plot_tangent_line(f, 1)\n",
    "plt.title('Tangent Line e^2x')"
   ]
  },
  {
   "cell_type": "code",
   "execution_count": 63,
   "metadata": {},
   "outputs": [
    {
     "name": "stdout",
     "output_type": "stream",
     "text": [
      "x0 = 1 dx = 0.001\n",
      "-1.35241314809081\n",
      "x0 = 1 dx = -0.001\n",
      "-1.35649134314142\n",
      "x0 = 2 dx = 0.001\n",
      "-0.0578759172651828\n",
      "x0 = 2 dx = -0.001\n",
      "-0.0580320401109245\n",
      "x0 = -3 dx = 0.001\n",
      "-0.00602254127674180\n",
      "x0 = -3 dx = -0.001\n",
      "-0.00601103853127300\n"
     ]
    }
   ],
   "source": [
    "# ЗАДАНИЯ ДЛЯ САМОСТОЯТЕЛЬНОЙ РАБОТЫ\n",
    "# УПРАЖНЕНИЕ С1\n",
    "def dy_dx(func, x0, dx):\n",
    "    return ( (func(x0 + dx) - func(x0)) / dx )\n",
    "x0 = [1,2,-3]\n",
    "dx = [0.001, -0.001]\n",
    "\n",
    "from sympy import sin\n",
    "def func(x):\n",
    "    return (sin(1/x))**5\n",
    "\n",
    "for i in x0:\n",
    "    for j in dx:\n",
    "        print('x0 =', i, 'dx =', j)\n",
    "        print(dy_dx(func, i, j))\n",
    "\n"
   ]
  },
  {
   "attachments": {},
   "cell_type": "markdown",
   "id": "37badb7f",
   "metadata": {},
   "source": [
    "С2"
   ]
  },
  {
   "cell_type": "code",
   "execution_count": 64,
   "id": "89cb357b",
   "metadata": {},
   "outputs": [
    {
     "name": "stdout",
     "output_type": "stream",
     "text": [
      "-1.35445133968776\n",
      "-0.0579538986898987\n",
      "-0.00601678566009308\n"
     ]
    },
    {
     "data": {
      "text/plain": [
       "\"dx=symbols('dx')\\ndef fun(x):\\n    dy=(sp.sin(1/x+dx))**5-(sp.sin(1/x))**5\\n    #dy=Pow(sp.sin((1/(x+dx))),5)-Pow((np.sin(1/x)),5)\\n    return (dy/dx)\\nprint(fun(1))\\n\\ndef big_fun(fun,x):\\n   p1=sp.limit(fun(x),dx,0)\\n   return p1\\nx=np.array([1,2,-3])\\nfor x in x:\\n    print(big_fun(fun,x).evalf())\""
      ]
     },
     "execution_count": 64,
     "metadata": {},
     "output_type": "execute_result"
    }
   ],
   "source": [
    "from sympy import *\n",
    "x = Symbol('x')\n",
    "f = (sp.sin(1/x))**5\n",
    "x0 = np.array([1,2,-3])\n",
    "y = diff(f,x,1)\n",
    "for x0 in x0:\n",
    "    y0 = y.subs(x, x0)\n",
    "    print(y0.evalf())\n",
    "\"\"\"dx=symbols('dx')\n",
    "def fun(x):\n",
    "    dy=(sp.sin(1/x+dx))**5-(sp.sin(1/x))**5\n",
    "    #dy=Pow(sp.sin((1/(x+dx))),5)-Pow((np.sin(1/x)),5)\n",
    "    return (dy/dx)\n",
    "print(fun(1))\n",
    "\n",
    "def big_fun(fun,x):\n",
    "   p1=sp.limit(fun(x),dx,0)\n",
    "   return p1\n",
    "x=np.array([1,2,-3])\n",
    "for x in x:\n",
    "    print(big_fun(fun,x).evalf())\"\"\""
   ]
  },
  {
   "attachments": {},
   "cell_type": "markdown",
   "metadata": {},
   "source": [
    "|            |$x_0 = 1$      |$x_0 = 2$      |$x_0 = -3$     |\n",
    "|------------|---------------|---------------|---------------|\n",
    "|$y=sin^5(1/x)$|~-1.3524|~-0.0578|~-0.00602|\n",
    "|            |~-1.3544|~-0.0579|~-0.00601|"
   ]
  },
  {
   "cell_type": "code",
   "execution_count": 65,
   "metadata": {},
   "outputs": [
    {
     "name": "stdout",
     "output_type": "stream",
     "text": [
      "1.05657872415536\n"
     ]
    }
   ],
   "source": [
    "# УПРАЖНЕНИЕ С3\n",
    "from sympy import *\n",
    "x = Symbol('x')\n",
    "f = (log(x**2 + 1,3)) / ( acos(sin(x))**3 )\n",
    "x0 = 0.5\n",
    "y = diff(f,x,1)\n",
    "y0 = y.subs(x, x0)\n",
    "print(y0.evalf())\n",
    "\n"
   ]
  }
 ],
 "metadata": {
  "kernelspec": {
   "display_name": "Python 3 (ipykernel)",
   "language": "python",
   "name": "python3"
  },
  "language_info": {
   "codemirror_mode": {
    "name": "ipython",
    "version": 3
   },
   "file_extension": ".py",
   "mimetype": "text/x-python",
   "name": "python",
   "nbconvert_exporter": "python",
   "pygments_lexer": "ipython3",
   "version": "3.11.6"
  }
 },
 "nbformat": 4,
 "nbformat_minor": 5
}
