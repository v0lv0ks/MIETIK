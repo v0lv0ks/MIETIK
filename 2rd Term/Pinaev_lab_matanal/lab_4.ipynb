{
 "cells": [
  {
   "cell_type": "code",
   "execution_count": 2,
   "metadata": {},
   "outputs": [],
   "source": [
    "#Упражнение 1\n",
    "import numpy as np"
   ]
  },
  {
   "cell_type": "code",
   "execution_count": 15,
   "id": "064a1d56",
   "metadata": {},
   "outputs": [
    {
     "name": "stdout",
     "output_type": "stream",
     "text": [
      "Число: (1.414+1.414j)\n",
      "False\n",
      "False\n",
      "False\n",
      "Число: 2j\n",
      "False\n",
      "False\n",
      "True\n",
      "Число: (-1.414+1.414j)\n",
      "True\n",
      "False\n",
      "True\n",
      "Число: (-2+0j)\n",
      "True\n",
      "True\n",
      "True\n",
      "Число: (-1.414-1.414j)\n",
      "True\n",
      "False\n",
      "False\n",
      "Число: (-0-2j)\n",
      "True\n",
      "False\n",
      "False\n",
      "Число: (1.414-1.414j)\n",
      "False\n",
      "False\n",
      "False\n",
      "Число: (2-0j)\n",
      "False\n",
      "True\n",
      "False\n",
      "None 256\n"
     ]
    },
    {
     "ename": "",
     "evalue": "",
     "output_type": "error",
     "traceback": [
      "\u001b[1;31mThe Kernel crashed while executing code in the the current cell or a previous cell. Please review the code in the cell(s) to identify a possible cause of the failure. Click <a href='https://aka.ms/vscodeJupyterKernelCrash'>here</a> for more info. View Jupyter <a href='command:jupyter.viewOutput'>log</a> for further details."
     ]
    }
   ],
   "source": [
    "z=256\n",
    "def f(x):\n",
    "    for i in x:\n",
    "        print('Число:',np.around(i, decimals= 3))\n",
    "        #округляем наше число до 3-х знаков после запятой \n",
    "        print((np.real(i)<0),sep=\"\\n\")\n",
    "        #проверяем лежит ли точка в левой полуплоскости(по действ.части)\n",
    "        print(np.isclose(np.imag(i), 0))\n",
    "        #проверяем,что точка лежит на действительной оси,путем сравнивания мнимой части с нулем\n",
    "        print(np.angle(i)>np.pi/3)\n",
    "        #проверяем, что аргумент больше чем pi/3\n",
    "r=np.abs(z)\n",
    "phi=np.angle(z)\n",
    "k=np.arange(1,9)\n",
    "zroot = 256**(1/8)*( np.cos((phi+2.0*np.pi*k)/8) +\n",
    "1j*np.sin((phi+2.0*np.pi*k)/8))\n",
    "print(f(zroot),r)\n",
    "\n"
   ]
  },
  {
   "cell_type": "code",
   "execution_count": 4,
   "id": "0eb09588",
   "metadata": {},
   "outputs": [],
   "source": [
    "#Упражнение 2"
   ]
  },
  {
   "cell_type": "code",
   "execution_count": 5,
   "id": "bf9082fa",
   "metadata": {},
   "outputs": [
    {
     "name": "stdout",
     "output_type": "stream",
     "text": [
      "1 система False\n",
      "2 система True\n"
     ]
    }
   ],
   "source": [
    "z1 = 2 - 3j\n",
    "z2 = 5 + 1j\n",
    "print('1 система', ((np.angle(z1)>np.pi/3) & (np.angle(z2)>5*np.pi/6)))\n",
    "print('2 система', (np.real(3*z1+2*z2)<8) |~ (np.imag(z1-z2)==(np.isclose(2,0))))"
   ]
  },
  {
   "cell_type": "code",
   "execution_count": 6,
   "id": "c69b8832",
   "metadata": {},
   "outputs": [],
   "source": [
    "#Упражнение 3"
   ]
  },
  {
   "cell_type": "code",
   "execution_count": 7,
   "id": "fbf88874",
   "metadata": {},
   "outputs": [
    {
     "name": "stdout",
     "output_type": "stream",
     "text": [
      "A [1 2 3 4]\n",
      "A>=2 [2 3 4]\n",
      "B=A(L) [2 3]\n",
      "A(L)=-5 [ 1 -5 -5  4]\n"
     ]
    }
   ],
   "source": [
    "import numpy as np\n",
    "A = np.array([1,2,3,4])\n",
    "print('A '+str(A))\n",
    "6\n",
    "print('A>=2 '+str(A[A>=2]))\n",
    "# выбираем элементы из массива A, которые >= 2\n",
    "L = np.array([0,1,1,0], dtype=bool)\n",
    "B = A[L]\n",
    "# прочитаем элементы с помощью логических индексов L\n",
    "A[L] = -5\n",
    "# перезапишем на эти позиции в массиве А новые значения\n",
    "print('B=A(L) '+str(B))\n",
    "print('A(L)=-5 '+str(A))\n"
   ]
  },
  {
   "cell_type": "code",
   "execution_count": 8,
   "id": "f801755a",
   "metadata": {},
   "outputs": [
    {
     "name": "stdout",
     "output_type": "stream",
     "text": [
      "[ 1.000e+00+3.000e+00j -8.000e+00+6.000e+00j -2.600e+01-1.800e+01j\n",
      "  2.800e+01-9.600e+01j  3.160e+02-1.200e+01j  3.520e+02+9.360e+02j\n",
      " -2.456e+03+1.992e+03j -8.432e+03-5.376e+03j]\n",
      "Re(z)>2: [ 28. -96.j 316. -12.j 352.+936.j]\n",
      "Im(z)<=Re(z): [ 28.-96.j 316.-12.j]\n"
     ]
    }
   ],
   "source": [
    "z=1+3j\n",
    "k=np.arange(1,9)\n",
    "mas=(z**k)\n",
    "print(mas)\n",
    "print('Re(z)>2: '+ str(mas[np.real(mas)>2]))\n",
    "print('Im(z)<=Re(z): '+ str(mas[np.real(mas)>=np.imag(mas)]))"
   ]
  },
  {
   "cell_type": "code",
   "execution_count": 9,
   "id": "9ecca412",
   "metadata": {},
   "outputs": [],
   "source": [
    "#Упражнение 4"
   ]
  },
  {
   "cell_type": "code",
   "execution_count": 10,
   "id": "caab69cc",
   "metadata": {},
   "outputs": [
    {
     "name": "stdout",
     "output_type": "stream",
     "text": [
      "[3.-1.j 3.-2.j 3.-3.j 3.-4.j 3.-5.j 3.-6.j 3.-7.j 3.-8.j 3.-9.j]\n",
      "[3.-1.j 3.-2.j 0.+0.j 0.+0.j 0.+0.j 0.+0.j 3.-7.j 3.-8.j 3.-9.j]\n"
     ]
    }
   ],
   "source": [
    "k=np.arange(1,10)\n",
    "z=3-k*1j\n",
    "print(z)\n",
    "M=(4 < np.abs(z)) & (np.abs(z) <= 7)\n",
    "z[M]=0#Если  для числа(z) есть такое же по значению в M, то это число заменяется на 0\n",
    "print(z)"
   ]
  },
  {
   "cell_type": "code",
   "execution_count": 11,
   "id": "e601d3c5",
   "metadata": {},
   "outputs": [],
   "source": [
    "#Упражнение 5"
   ]
  },
  {
   "cell_type": "code",
   "execution_count": 12,
   "metadata": {},
   "outputs": [
    {
     "data": {
      "text/plain": [
       "Text(0, 0.5, 'Мнимые числа')"
      ]
     },
     "execution_count": 12,
     "metadata": {},
     "output_type": "execute_result"
    },
    {
     "data": {
      "image/png": "[encoded data removed]",
      "text/plain": [
       "<Figure size 1000x1000 with 1 Axes>"
      ]
     },
     "metadata": {},
     "output_type": "display_data"
    }
   ],
   "source": [
    "import numpy.random as rng\n",
    "import matplotlib.pyplot as plt\n",
    "x = 5 - 10*rng.rand(10_000_000) # 10_000_00 точек x на отрезке [-5;5]\n",
    "y = 5 - 10*rng.rand(10_000_000) # 10_000_00 точек y на отрезке [-5;5]\n",
    "\n",
    "z = x + 1j*y#создаем из множеств {x} и {y}, мн-во комплексных чисел {z}\n",
    "\n",
    "Z = np.abs(z - 1 - 1j)#модуль числа z-1-i\n",
    "\n",
    "L = (Z >= 1) & (Z <= 2)# отбор нужных нам значений\n",
    "\n",
    "plt.figure(figsize = (10, 10))\n",
    "plt.plot(x[L],y[L],'.')#берем точку из множества {X} и вроверяем ее на соответствие нашему условию\n",
    "# Аналогично с {Y}. Если условие --> True, то рисуем ее\n",
    "plt.axis('equal')\n",
    "plt.grid(True)\n",
    "plt.axhline(y=0, color='k')\n",
    "plt.axvline(x=0, color='k')\n",
    "plt.title('$1 \\leqslant |z - 1 - i| \\leqslant 2$', fontsize=20)\n",
    "plt.xlabel('Действительные числа')\n",
    "plt.ylabel('Мнимые числа')"
   ]
  },
  {
   "cell_type": "code",
   "execution_count": 13,
   "id": "460589fd",
   "metadata": {},
   "outputs": [],
   "source": [
    "#C1"
   ]
  },
  {
   "cell_type": "code",
   "execution_count": 14,
   "id": "60d1a25f",
   "metadata": {},
   "outputs": [
    {
     "name": "stdout",
     "output_type": "stream",
     "text": [
      "Число: (0.417+1.007j)\n",
      "False\n",
      "False\n",
      "False\n",
      "Число: (-0.417+1.007j)\n",
      "True\n",
      "False\n",
      "False\n",
      "Число: (-1.007+0.417j)\n",
      "True\n",
      "False\n",
      "True\n",
      "Число: (-1.007-0.417j)\n",
      "True\n",
      "False\n",
      "False\n",
      "Число: (-0.417-1.007j)\n",
      "True\n",
      "False\n",
      "False\n",
      "Число: (0.417-1.007j)\n",
      "False\n",
      "False\n",
      "False\n",
      "Число: (1.007-0.417j)\n",
      "False\n",
      "False\n",
      "False\n",
      "Число: (1.007+0.417j)\n",
      "False\n",
      "False\n",
      "False\n",
      "None\n"
     ]
    }
   ],
   "source": [
    "z=-256\n",
    "def f(x):\n",
    "    for i in x:\n",
    "        print('Число:',np.around(i, decimals= 3))\n",
    "        #округляем наше число до 3-х знаков после запятой \n",
    "        print((np.real(i)<0),sep=\"\\n\")\n",
    "        #проверяем лежит ли точка в левой полуплоскости(по действ.части)\n",
    "        print(np.isclose(np.imag(i), 0))\n",
    "        #проверяем,что точка лежит на действительной оси,путем сравнивания мнимой части с нулем\n",
    "        print(np.angle(i)>2*np.pi/3)\n",
    "        #проверяем, что аргумент больше чем 2pi/3\n",
    "r=np.abs(z)\n",
    "phi=np.angle(z)\n",
    "k=np.arange(1,9)\n",
    "zroot = 2**(1/8)*( np.cos((phi+2.0*np.pi*k)/8) +\n",
    "1j*np.sin((phi+2.0*np.pi*k)/8))\n",
    "print(f(zroot))"
   ]
  },
  {
   "cell_type": "code",
   "execution_count": null,
   "id": "6845bbbd",
   "metadata": {},
   "outputs": [],
   "source": []
  }
 ],
 "metadata": {
  "kernelspec": {
   "display_name": "Python 3",
   "language": "python",
   "name": "python3"
  },
  "language_info": {
   "codemirror_mode": {
    "name": "ipython",
    "version": 3
   },
   "file_extension": ".py",
   "mimetype": "text/x-python",
   "name": "python",
   "nbconvert_exporter": "python",
   "pygments_lexer": "ipython3",
   "version": "3.11.6"
  }
 },
 "nbformat": 4,
 "nbformat_minor": 5
}
