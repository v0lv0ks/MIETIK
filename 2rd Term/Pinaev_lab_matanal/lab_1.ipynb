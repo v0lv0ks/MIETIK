{
 "cells": [
  {
   "cell_type": "code",
   "execution_count": 1,
   "id": "8ecf7192-f2fe-45ac-91f5-47cd3550d0ef",
   "metadata": {},
   "outputs": [
    {
     "data": {
      "text/plain": [
       "6"
      ]
     },
     "execution_count": 1,
     "metadata": {},
     "output_type": "execute_result"
    }
   ],
   "source": [
    "2*3\n"
   ]
  },
  {
   "cell_type": "code",
   "execution_count": 2,
   "id": "e36ee45f-d1f2-4a62-a750-c0869a97b61d",
   "metadata": {},
   "outputs": [
    {
     "name": "stdout",
     "output_type": "stream",
     "text": [
      "7\n"
     ]
    }
   ],
   "source": [
    "\n",
    "k=3+4\n",
    "print(k)\n",
    "\n"
   ]
  },
  {
   "cell_type": "code",
   "execution_count": 3,
   "id": "98ff4d0a-5c84-4bbe-a660-4645fe19a98e",
   "metadata": {},
   "outputs": [
    {
     "data": {
      "text/plain": [
       "48"
      ]
     },
     "execution_count": 3,
     "metadata": {},
     "output_type": "execute_result"
    }
   ],
   "source": [
    "\n",
    "(k+1)*(k-1)\n",
    "\n"
   ]
  },
  {
   "cell_type": "code",
   "execution_count": 5,
   "id": "eaeb06a2-df1d-4789-90fd-0a8763436322",
   "metadata": {},
   "outputs": [
    {
     "data": {
      "text/plain": [
       "-1"
      ]
     },
     "execution_count": 5,
     "metadata": {},
     "output_type": "execute_result"
    }
   ],
   "source": [
    "x=0\n",
    "(x+1)*(x-1)\n"
   ]
  },
  {
   "cell_type": "code",
   "execution_count": 6,
   "id": "614bf161-223b-4ee1-bce9-6c46de00b96c",
   "metadata": {},
   "outputs": [
    {
     "name": "stdout",
     "output_type": "stream",
     "text": [
      "44\n"
     ]
    }
   ],
   "source": [
    "h=(k+2)*3+\\\n",
    "3+(k+7)\n",
    "print(h)"
   ]
  },
  {
   "cell_type": "code",
   "execution_count": 7,
   "id": "99a6afbe-e5c6-4661-9dc6-30f11d7a7813",
   "metadata": {},
   "outputs": [
    {
     "name": "stdout",
     "output_type": "stream",
     "text": [
      "Once deleted, variables cannot be recovered. Proceed (y/[n])?  y\n"
     ]
    },
    {
     "name": "stdout",
     "output_type": "stream",
     "text": [
      "Variable   Type    Data/Info\n",
      "----------------------------\n",
      "t          int     4\n",
      "x          int     1\n",
      "y          int     2\n",
      "z          int     3\n",
      "Variable   Type    Data/Info\n",
      "----------------------------\n",
      "t          int     4\n",
      "y          int     2\n",
      "z          int     3\n"
     ]
    }
   ],
   "source": [
    "%reset\n",
    "x=1\n",
    "y=2\n",
    "z=3\n",
    "t=4\n",
    "%whos\n",
    "del(x)\n",
    "%whos"
   ]
  },
  {
   "cell_type": "markdown",
   "id": "5c4b9e68-b349-478d-9f41-cc64fd0b33a3",
   "metadata": {},
   "source": [
    "$\\begin{bmatrix} 1 & 2 & 1 \\\\ 3 & 0 & 1 \\\\ 0 & 2 & 4 \\end{bmatrix}$\n"
   ]
  },
  {
   "cell_type": "code",
   "execution_count": 8,
   "id": "24ff4e52-ca37-488c-82b4-25fa1126fabb",
   "metadata": {},
   "outputs": [
    {
     "name": "stdout",
     "output_type": "stream",
     "text": [
      "[ 1  3 -1]\n"
     ]
    }
   ],
   "source": [
    "import numpy as np\n",
    "B = np.array([1, 3, -1])\n",
    "print(B)\n"
   ]
  },
  {
   "cell_type": "code",
   "execution_count": 9,
   "id": "0dabaf67-cc46-4b7d-848f-ffbbe4703079",
   "metadata": {},
   "outputs": [
    {
     "name": "stdout",
     "output_type": "stream",
     "text": [
      "[[1 2 3 4]\n",
      " [0 1 3 2]]\n"
     ]
    }
   ],
   "source": [
    "import numpy as np\n",
    "A = np.array( [ [1, 2, 3, 4], [0, 1, 3, 2] ] ) \n",
    "print(A) "
   ]
  },
  {
   "cell_type": "code",
   "execution_count": 10,
   "id": "33ecf4be-4752-426d-ab98-23a22cf255b8",
   "metadata": {},
   "outputs": [
    {
     "name": "stdout",
     "output_type": "stream",
     "text": [
      "[1 3 5 7]\n"
     ]
    }
   ],
   "source": [
    "v = np.arange(1,8,2) \n",
    "print (v)\n"
   ]
  },
  {
   "cell_type": "code",
   "execution_count": 11,
   "id": "b642d8b0-5160-4216-9f32-b97e9503bfff",
   "metadata": {},
   "outputs": [
    {
     "name": "stdout",
     "output_type": "stream",
     "text": [
      "A = [0 1 2 3]\n",
      "B = [[ 0  1  2  3  4  5]\n",
      " [ 6  7  8  9 10 11]]\n"
     ]
    }
   ],
   "source": [
    "import numpy as np\n",
    "A = np.arange(4)\n",
    "5\n",
    "print('A =', A)\n",
    "B = np.arange(12).reshape(2, 6)\n",
    "print('B =', B)"
   ]
  },
  {
   "cell_type": "markdown",
   "id": "a3c73e15-cd08-4bdb-b02c-66de71510a38",
   "metadata": {},
   "source": [
    "$\\begin{bmatrix} 1 & 2 & 1 & 1 \\\\ 3 & 0 & 1 & 1 \\\\ 0 & 2 & 4 & 1 \\end{bmatrix}$"
   ]
  },
  {
   "cell_type": "code",
   "execution_count": 26,
   "id": "bd4a8f93-f7c8-4ea2-ac5a-5ecde1203774",
   "metadata": {},
   "outputs": [
    {
     "name": "stdout",
     "output_type": "stream",
     "text": [
      "[[ 3 12 -9  3]\n",
      " [ 3  0  1  1]\n",
      " [ 0  4  4 -1]]\n"
     ]
    }
   ],
   "source": [
    "import numpy as np\n",
    "A = np.array( [ [1, 2, 1, 1],[3 , 0, 1, 1], [0,2,4,1]] ) \n",
    "A[2,3]=-A[2,3]\n",
    "A[0,2]=A[0,2]-4\n",
    "A[0,:]=A[0,:]*3\n",
    "A[:,1]=A[:,1]*2\n",
    "print(A)"
   ]
  },
  {
   "cell_type": "code",
   "execution_count": 44,
   "id": "be12177b-be76-402f-80c1-876dfb78ebfb",
   "metadata": {},
   "outputs": [
    {
     "name": "stdout",
     "output_type": "stream",
     "text": [
      "[1 2 3 4 5]\n",
      "[1 2 3 4 5 6 7]\n",
      "[1 2 3 4 5 6 7 8 9]\n"
     ]
    }
   ],
   "source": [
    "v = np.arange(1,6,1) \n",
    "print (v)\n",
    "v1=np.arange(1,8,1)\n",
    "print(v1)\n",
    "v2=np.arange(1,10,1)\n",
    "print(v2)\n"
   ]
  },
  {
   "cell_type": "code",
   "execution_count": 50,
   "id": "e3538490-95ca-471c-b642-38b146f0c54f",
   "metadata": {},
   "outputs": [
    {
     "name": "stdout",
     "output_type": "stream",
     "text": [
      "[[1]\n",
      " [2]\n",
      " [3]\n",
      " [4]\n",
      " [5]\n",
      " [6]\n",
      " [7]\n",
      " [8]\n",
      " [9]]\n"
     ]
    }
   ],
   "source": [
    "B = np.arange(1,10,1).reshape(9,1)\n",
    "print(B)\n"
   ]
  },
  {
   "cell_type": "code",
   "execution_count": 49,
   "id": "b90df8bc-ee65-4012-9019-68c999718203",
   "metadata": {},
   "outputs": [
    {
     "name": "stdout",
     "output_type": "stream",
     "text": [
      "[[1]\n",
      " [2]\n",
      " [3]\n",
      " [4]\n",
      " [5]]\n"
     ]
    }
   ],
   "source": [
    "\n",
    "\n",
    "B1 = np.arange(1,6,1).reshape(5,1)\n",
    "print(B1)\n"
   ]
  },
  {
   "cell_type": "code",
   "execution_count": 48,
   "id": "5f2fe2bf-03d0-472d-b4e8-8c8fe906c75d",
   "metadata": {},
   "outputs": [
    {
     "name": "stdout",
     "output_type": "stream",
     "text": [
      "[[1]\n",
      " [2]]\n"
     ]
    }
   ],
   "source": [
    "\n",
    "B2 = np.arange(1,3,1).reshape(2,1)\n",
    "print(B2)"
   ]
  },
  {
   "cell_type": "code",
   "execution_count": 51,
   "id": "7e24ca4a-5957-45cf-a811-6514260c3169",
   "metadata": {},
   "outputs": [
    {
     "name": "stdout",
     "output_type": "stream",
     "text": [
      "[[1. 1. 1.]\n",
      " [1. 1. 1.]]\n",
      "[[1 2 3]\n",
      " [3 2 1]]\n"
     ]
    }
   ],
   "source": [
    "import numpy as np\n",
    "import numpy.matlib\n",
    "X = np.matlib.ones((2,3))\n",
    "Y = np.matlib.matrix('1, 2, 3; 3, 2, 1')\n",
    "print(X)\n",
    "print(Y)"
   ]
  },
  {
   "cell_type": "code",
   "execution_count": 72,
   "id": "2ee71abf-e05f-4b64-9b19-ba0b6b54e120",
   "metadata": {},
   "outputs": [
    {
     "name": "stdout",
     "output_type": "stream",
     "text": [
      "[[1 2 3]\n",
      " [4 5 6]]\n",
      "[[ 1 -2  1]\n",
      " [-2  3  4]]\n",
      "[[1. 1. 1.]\n",
      " [1. 1. 1.]]\n",
      "[[1. 0. 0.]\n",
      " [0. 1. 0.]\n",
      " [0. 0. 1.]]\n",
      "[[ 2  0  4]\n",
      " [ 2  8 10]]\n"
     ]
    },
    {
     "ename": "ValueError",
     "evalue": "operands could not be broadcast together with shapes (2,3) (3,3) ",
     "output_type": "error",
     "traceback": [
      "\u001b[1;31m---------------------------------------------------------------------------\u001b[0m",
      "\u001b[1;31mValueError\u001b[0m                                Traceback (most recent call last)",
      "Cell \u001b[1;32mIn[72], line 13\u001b[0m\n\u001b[0;32m     11\u001b[0m \u001b[38;5;28mprint\u001b[39m(E)\n\u001b[0;32m     12\u001b[0m \u001b[38;5;28mprint\u001b[39m(A\u001b[38;5;241m+\u001b[39mB)\n\u001b[1;32m---> 13\u001b[0m \u001b[38;5;28mprint\u001b[39m(\u001b[43mA\u001b[49m\u001b[38;5;241;43m+\u001b[39;49m\u001b[43mE\u001b[49m)\n\u001b[0;32m     14\u001b[0m \u001b[38;5;28mprint\u001b[39m(A\u001b[38;5;241m*\u001b[39mc)\n\u001b[0;32m     15\u001b[0m B1 \u001b[38;5;241m=\u001b[39m B\u001b[38;5;241m.\u001b[39mtranspose()\n",
      "\u001b[1;31mValueError\u001b[0m: operands could not be broadcast together with shapes (2,3) (3,3) "
     ]
    }
   ],
   "source": [
    "import numpy as np\n",
    "A = np.matlib.matrix('1, 2, 3; 4, 5, 6')\n",
    "B = np.matlib.matrix('1, -2, 1; -2, 3, 4')\n",
    "c=2\n",
    "D = np.matlib.ones((2,3))\n",
    "E = np.matlib.eye(3)\n",
    "\n",
    "print(A)\n",
    "print(B)\n",
    "print(D)\n",
    "print(E)\n",
    "print(A+B)\n",
    "print(A+E)\n",
    "print(A*c)\n",
    "B1 = B.transpose()\n",
    "print(A*B1)"
   ]
  },
  {
   "cell_type": "code",
   "execution_count": null,
   "id": "3ff3a324-2cd6-42f2-968a-e70b58d14ff4",
   "metadata": {},
   "outputs": [],
   "source": [
    "разная размерность ^  \n",
    "                   !\n"
   ]
  }
 ],
 "metadata": {
  "kernelspec": {
   "display_name": "Python 3 (ipykernel)",
   "language": "python",
   "name": "python3"
  },
  "language_info": {
   "codemirror_mode": {
    "name": "ipython",
    "version": 3
   },
   "file_extension": ".py",
   "mimetype": "text/x-python",
   "name": "python",
   "nbconvert_exporter": "python",
   "pygments_lexer": "ipython3",
   "version": "3.10.9"
  }
 },
 "nbformat": 4,
 "nbformat_minor": 5
}
