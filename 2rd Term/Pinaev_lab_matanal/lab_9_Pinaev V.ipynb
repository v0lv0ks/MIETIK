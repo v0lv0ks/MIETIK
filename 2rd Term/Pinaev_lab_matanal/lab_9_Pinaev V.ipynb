{
 "cells": [
  {
   "cell_type": "markdown",
   "id": "296a988c-098a-4e0b-a35a-fe4b7a21f71f",
   "metadata": {},
   "source": [
    "1 УПРАЖНЕНИЕ\n"
   ]
  },
  {
   "cell_type": "code",
   "execution_count": 18,
   "metadata": {},
   "outputs": [],
   "source": [
    "import numpy as np\n",
    "import sympy as sp"
   ]
  },
  {
   "cell_type": "code",
   "execution_count": 19,
   "metadata": {},
   "outputs": [
    {
     "name": "stdout",
     "output_type": "stream",
     "text": [
      "Значение полинома в точке x= -1.0 равно 1.7999999999999998.\n",
      "Значение полинома в точке x= 4.0 равно 15615.8.\n",
      "Значение полинома в точке x= 2.2 равно 191.99386880000012.\n",
      "Значение полинома в точке x= 3.141592653589793 равно 2741.192949671252.\n",
      "[1.7999999999999998, 15615.8, 191.99386880000012, 2741.192949671252]\n"
     ]
    }
   ],
   "source": [
    "pol=[1,0,0,-3.2,0,3,0,3]\n",
    "x=np.array([-1,4,2.2,np.pi])\n",
    "save=[]\n",
    "for x in x:\n",
    "    save.append(np.polyval(pol, x))\n",
    "    print(f\"Значение полинома в точке x=\",x,f\"равно {np.polyval(pol, x)}.\")\n",
    "print(save)"
   ]
  },
  {
   "cell_type": "markdown",
   "metadata": {},
   "source": [
    "2 упражнение"
   ]
  },
  {
   "cell_type": "code",
   "execution_count": 20,
   "metadata": {},
   "outputs": [
    {
     "name": "stdout",
     "output_type": "stream",
     "text": [
      "Корни полинома равны:\n",
      " 1.158+0.567j\n",
      " 1.158-0.567j\n",
      "-0.252+1.274j\n",
      "-0.252-1.274j\n",
      "-0.863+0.704j\n",
      "-0.863-0.704j\n",
      "-0.581+0.000j\n",
      " 0.495+0.000j\n",
      "Коэффициенты полинома равны:\n",
      " 1.000\n",
      "-0.000\n",
      " 0.000\n",
      "-1.500\n",
      "-0.000\n",
      " 1.500\n",
      " 3.500\n",
      "-0.000\n",
      "-1.000\n"
     ]
    }
   ],
   "source": [
    "pol=[2,0,0,-3,0,3,7,0,-2]\n",
    "print(f\"Корни полинома равны:\")\n",
    "for root in np.roots(pol):\n",
    " print(f\"{root : .3f}\")\n",
    "\n",
    "print(f\"Коэффициенты полинома равны:\")\n",
    "for root in np.poly(np.roots(pol)):\n",
    " print(f\"{root : .3f}\")\n",
    "\n"
   ]
  },
  {
   "cell_type": "markdown",
   "metadata": {},
   "source": [
    "3 упражнение"
   ]
  },
  {
   "cell_type": "code",
   "execution_count": 47,
   "metadata": {},
   "outputs": [
    {
     "name": "stdout",
     "output_type": "stream",
     "text": [
      " p * q = [  1   2  -3  -6  -3   0  13   0 -12   0]\n",
      " p / q = (array([1., 2., 3., 6.]), array([ 6., 18.,  4.]))\n"
     ]
    }
   ],
   "source": [
    "# УПРАЖНЕНИЕ 3\n",
    "# Для умножения полиномов используется функция numpy.convolve\n",
    "# Для  деления  полиномов используется функция numpy.polydiv\n",
    "# => частное + остаток (2 аргумента выходных)\n",
    "\n",
    "p_pol = [1, 2, 0, 0, -3, 0 , 4]\n",
    "q_pol = [1, 0 , -3, 0]\n",
    "print(f\" p * q = {np.convolve(p_pol, q_pol)}\")\n",
    "print(f\" p / q = {np.polydiv(p_pol, q_pol) }\")\n",
    "q_pol = [0]*(len(p_pol) - len(q_pol)) + q_pol\n"
   ]
  },
  {
   "cell_type": "markdown",
   "id": "3d8e59a4",
   "metadata": {},
   "source": [
    "4 упражнение"
   ]
  },
  {
   "cell_type": "code",
   "execution_count": 23,
   "id": "89ff25fd",
   "metadata": {},
   "outputs": [
    {
     "name": "stdout",
     "output_type": "stream",
     "text": [
      "[1, 2, 0, 1, -3, -3, 5]\n",
      "[1, 2, 0, 1, -3, -3, 5]\n"
     ]
    }
   ],
   "source": [
    "def sum_of_poly(Xp, Yp):\n",
    "    xl, yl = len(Xp), len(Yp)\n",
    "    if xl > yl:\n",
    "        Yp = [0]*(xl-yl) + Yp\n",
    "        return [Xp[i] + Yp[i] for i in range(xl)]\n",
    "    if xl == yl:\n",
    "        return [Xp[i] + Yp[i] for i in range(xl)]\n",
    "    if xl < yl:\n",
    "        Xp = [0]*(yl-xl) + Xp\n",
    "        return [Xp[i] + Yp[i] for i in range(yl)]\n",
    "\n",
    "p = [1,2,0,0,-3,0,4]\n",
    "q = [1,0,-3,1]\n",
    "print(sum_of_poly(p,q))\n",
    "print(sum_of_poly(q,p))"
   ]
  },
  {
   "cell_type": "markdown",
   "id": "e1ee10b3",
   "metadata": {},
   "source": [
    "5 упражнение"
   ]
  },
  {
   "cell_type": "code",
   "execution_count": 24,
   "id": "cf2dbfab",
   "metadata": {},
   "outputs": [
    {
     "name": "stdout",
     "output_type": "stream",
     "text": [
      "d/dx(p*q)= [ 11 -10   0 -24   0 -30  20  -4  27  -6   6]\n",
      "Целая часть:[1. 1.]\n",
      "Остаток от деления:[ 1.  3.  3. -1.  3.]\n",
      "d/dx(p/q)= [1.]\n"
     ]
    }
   ],
   "source": [
    "p=[1,-1,0,-3,0,-2]\n",
    "q=[1,0,0,0,0,-3,1]\n",
    "\n",
    "\n",
    "print('d/dx(p*q)=', np.polyder(np.convolve(q,p)))\n",
    "print(f'Целая часть:{np.polydiv(q,p)[0]}')\n",
    "print(f'Остаток от деления:{np.polydiv(q,p)[1]}')\n",
    "print('d/dx(p/q)=',np.polyder(np.polydiv(q,p)[0]))\n"
   ]
  },
  {
   "cell_type": "markdown",
   "id": "27e94a31",
   "metadata": {},
   "source": [
    "6 упражнение"
   ]
  },
  {
   "cell_type": "code",
   "execution_count": 25,
   "id": "f470be7f",
   "metadata": {},
   "outputs": [
    {
     "name": "stdout",
     "output_type": "stream",
     "text": [
      "-91.1232\n"
     ]
    }
   ],
   "source": [
    "def DERIVATIV_poly(poly, order, x0):\n",
    "    pd = np.polyder(poly, order)\n",
    "    return np.polyval(pd, x0)\n",
    "\n",
    "p = [1,0,0,-1,0,0,0,0,3,0,-2]\n",
    "n = 5\n",
    "x0 = 0.2\n",
    "print(DERIVATIV_poly(p,n,x0))"
   ]
  },
  {
   "cell_type": "markdown",
   "id": "a99bc29c",
   "metadata": {},
   "source": [
    "7 упражнение"
   ]
  },
  {
   "cell_type": "code",
   "execution_count": 26,
   "id": "be872389",
   "metadata": {},
   "outputs": [
    {
     "name": "stdout",
     "output_type": "stream",
     "text": [
      "[-2.0, 11.0, 27.0, 28.0, 17.0, 6.0, 1.0]\n",
      "[100.0, -259.0, 288.0, -176.0, 62.0, -12.0, 1.0]\n"
     ]
    },
    {
     "name": "stderr",
     "output_type": "stream",
     "text": [
      "C:\\Users\\вольвокс\\AppData\\Local\\Temp\\ipykernel_496\\3418868992.py:6: DeprecationWarning: `np.math` is a deprecated alias for the standard library `math` module (Deprecated Numpy 1.25). Replace usages of `np.math` with `math`\n",
      "  bk=(np.polyval(pr,x0))/(np.math.factorial(i))\n"
     ]
    }
   ],
   "source": [
    "def coeff(p,x0):\n",
    "    n=len(p)-1\n",
    "    mas=[]\n",
    "    for i in range(0,n+1):\n",
    "        pr=np.polyder(p,i)\n",
    "        bk=(np.polyval(pr,x0))/(np.math.factorial(i))\n",
    "        mas.append(bk)\n",
    "    return mas\n",
    "\n",
    "p=[1,0,2,0,0,-3,-2]\n",
    "print(coeff(p,1))\n",
    "print(coeff(p,-2))\n",
    "    "
   ]
  },
  {
   "cell_type": "markdown",
   "id": "737180a9",
   "metadata": {},
   "source": [
    "C1"
   ]
  },
  {
   "cell_type": "code",
   "execution_count": 27,
   "id": "59694c05",
   "metadata": {},
   "outputs": [
    {
     "name": "stdout",
     "output_type": "stream",
     "text": [
      "Корни полинома равны:\n",
      "-1.000+0.000j\n",
      "-0.500+0.866j\n",
      "-0.500-0.866j\n",
      " 0.500+0.866j\n",
      " 0.500-0.866j\n",
      " 1.000+0.000j\n",
      "Коэффициенты полинома равны:\n",
      " 1.000\n",
      " 0.000\n",
      " 0.000\n",
      "-0.000\n",
      " 0.000\n",
      "-0.000\n",
      "-1.000\n"
     ]
    }
   ],
   "source": [
    "pol = [1,0,0,0,0,0,-1]\n",
    "print(f\"Корни полинома равны:\")\n",
    "for root in np.roots(pol):\n",
    " print(f\"{root : .3f}\")\n",
    "\n",
    "print(f\"Коэффициенты полинома равны:\")\n",
    "for root in np.poly(np.roots(pol)):\n",
    " print(f\"{root : .3f}\")"
   ]
  },
  {
   "cell_type": "markdown",
   "id": "bbf114e1",
   "metadata": {},
   "source": [
    "C2"
   ]
  },
  {
   "cell_type": "code",
   "execution_count": 28,
   "id": "554d33be",
   "metadata": {},
   "outputs": [
    {
     "name": "stdout",
     "output_type": "stream",
     "text": [
      "(p*q)= [3 0 0]\n",
      "Частное(p/q):[1. 2.]\n",
      "Остаток от деления(p/q):[3.]\n",
      "Сумма:[1, 2, 0]\n"
     ]
    }
   ],
   "source": [
    "def sum_of_poly(Xp, Yp):\n",
    "    xl, yl = len(Xp), len(Yp)\n",
    "    if xl > yl:\n",
    "        Yp = [0]*(xl-yl) + Yp\n",
    "        return [Xp[i] + Yp[i] for i in range(xl)]\n",
    "    if xl == yl:\n",
    "        return [Xp[i] + Yp[i] for i in range(xl)]\n",
    "    if xl < yl:\n",
    "        Xp = [0]*(yl-xl) + Xp\n",
    "        return [Xp[i] + Yp[i] for i in range(yl)]\n",
    "    \n",
    "p=[1,1,1]\n",
    "q=[1,-1]\n",
    "print('(p*q)=', np.polyder(np.convolve(p,q)))\n",
    "print(f'Частное(p/q):{np.polydiv(p,q)[0]}')\n",
    "print(f'Остаток от деления(p/q):{np.polydiv(p,q)[1]}')\n",
    "print(f'Сумма:{sum_of_poly(p,q)}')"
   ]
  },
  {
   "cell_type": "markdown",
   "id": "7c87a318",
   "metadata": {},
   "source": [
    "C3"
   ]
  },
  {
   "cell_type": "code",
   "execution_count": 46,
   "id": "291a7d77",
   "metadata": {},
   "outputs": [
    {
     "name": "stdout",
     "output_type": "stream",
     "text": [
      "20.0*x + 1.0*(x + 2)**3 - 8.0*(x + 2)**2 + 25.0\n",
      "4.0*x + 1.0*(x - 2)**3 + 4.0*(x - 2)**2 - 7.0\n"
     ]
    },
    {
     "name": "stderr",
     "output_type": "stream",
     "text": [
      "C:\\Users\\вольвокс\\AppData\\Local\\Temp\\ipykernel_496\\4289265143.py:10: DeprecationWarning: `np.math` is a deprecated alias for the standard library `math` module (Deprecated Numpy 1.25). Replace usages of `np.math` with `math`\n",
      "  bk=(np.polyval(pr,x0))/(np.math.factorial(i))\n"
     ]
    }
   ],
   "source": [
    "from sympy import Symbol, Pow\n",
    "x=Symbol('x')\n",
    "mas=[]\n",
    "def teylor(p,x0):\n",
    "    x=Symbol('x')\n",
    "    n=len(p)-1\n",
    "    mas=[]\n",
    "    for i in range(0,n+1):\n",
    "        pr=np.polyder(p,i)\n",
    "        bk=(np.polyval(pr,x0))/(np.math.factorial(i))\n",
    "        sym=bk*pow((x-x0),i)\n",
    "        #sym=sp.factor(sym)\n",
    "        mas.append(sym)\n",
    "\n",
    "    return sum(mas)\n",
    "\n",
    "p=[1,-2,0,1]\n",
    "print(teylor(p,-2))\n",
    "print(teylor(p,2))\n",
    "#p(x)=-15+20(x+2)-8(x+2)^2+(x+2)^3\n"
   ]
  },
  {
   "cell_type": "markdown",
   "id": "797537a2",
   "metadata": {},
   "source": [
    "Если мы нарисуем исходную функцию, а затем два ее разложения по точкам(x0=2) и (x0=-2), то мы заметим что графики полностью совпадают. Исходя из этого можно сделать вывод, что если в некоторой окрестности заданной точки функция раскладывается в степенной ряд, то это разложение единственно. "
   ]
  },
  {
   "cell_type": "code",
   "execution_count": 45,
   "id": "dd6b5104",
   "metadata": {},
   "outputs": [
    {
     "data": {
      "image/png": "[encoded data removed]",
      "text/plain": [
       "<Figure size 640x480 with 1 Axes>"
      ]
     },
     "metadata": {},
     "output_type": "display_data"
    }
   ],
   "source": [
    "import matplotlib.pyplot as plt\n",
    "\n",
    "x= np.linspace(0, 3, 2000)\n",
    "plt.plot(x, x**3 - 2*x**2 + 1, label='p')\n",
    "plt.plot(x, 1.00 * (x - 2)**3 +4.00 * (x - 2)**2 + 4.00 * (x - 2)  + 1, label='p_t')\n",
    "plt.plot(x, 1.00 * (x + 2)**3 -8.00 * (x + 2)**2 +20.00 * (x + 2)-15, label='p_t2')\n",
    "plt.grid()\n",
    "plt.axhline(y=0, color='k')\n",
    "plt.axvline(x=0, color='k')\n",
    "plt.legend()\n",
    "plt.show()"
   ]
  },
  {
   "cell_type": "code",
   "execution_count": 1,
   "id": "af0b0028",
   "metadata": {},
   "outputs": [
    {
     "name": "stdout",
     "output_type": "stream",
     "text": [
      "1.5\n"
     ]
    }
   ],
   "source": [
    "def F(f,a,b,n,l):\n",
    "    d=(b-a)/n \n",
    "    I=0\n",
    "    for i in range(n):\n",
    "        I+=d*f(a+d/(l+1)+d*i)\n",
    "    return I\n",
    "def f(x):\n",
    "    return x\n",
    "print(F(f,1,2,4,1)) "
   ]
  },
  {
   "cell_type": "code",
   "execution_count": null,
   "id": "c0c7768e",
   "metadata": {},
   "outputs": [],
   "source": []
  }
 ],
 "metadata": {
  "kernelspec": {
   "display_name": "Python 3 (ipykernel)",
   "language": "python",
   "name": "python3"
  },
  "language_info": {
   "codemirror_mode": {
    "name": "ipython",
    "version": 3
   },
   "file_extension": ".py",
   "mimetype": "text/x-python",
   "name": "python",
   "nbconvert_exporter": "python",
   "pygments_lexer": "ipython3",
   "version": "3.11.6"
  }
 },
 "nbformat": 4,
 "nbformat_minor": 5
}
