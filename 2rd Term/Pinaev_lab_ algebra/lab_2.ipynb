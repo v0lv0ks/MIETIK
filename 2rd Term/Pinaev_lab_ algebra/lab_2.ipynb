{
 "cells": [
  {
   "cell_type": "code",
   "execution_count": 1,
   "id": "a5c101d9-8b4b-464a-9c1e-87a81df54232",
   "metadata": {},
   "outputs": [],
   "source": [
    "import numpy as np\n",
    "from sympy import *\n"
   ]
  },
  {
   "cell_type": "code",
   "execution_count": 2,
   "id": "d7392f3f-f56d-48b0-9174-67ffde4fb29a",
   "metadata": {},
   "outputs": [],
   "source": [
    "#Упражнение 2.1"
   ]
  },
  {
   "cell_type": "code",
   "execution_count": 29,
   "id": "c11501d9-755b-4245-94c3-ebd982fa85c6",
   "metadata": {},
   "outputs": [
    {
     "name": "stdout",
     "output_type": "stream",
     "text": [
      "18\n",
      "0\n",
      "x*(x + 1) + 4*x + 4\n",
      "Matrix([[-1, 4], [-5, 2]])\n"
     ]
    }
   ],
   "source": [
    "a,b,x=symbols('a b x')\n",
    "v=Matrix([[-1,4],[-5,2]])\n",
    "v1=Matrix([[a+b,a-b],[a+b,a-b]])\n",
    "v2=Matrix([[x,x+1],[-4,x+1]])\n",
    "\n",
    "detV = (v[0,0] * v[1, 1]) - (v[0, 1] * v[1, 0])\n",
    "detV1 = (v1[0,0] * v1[1, 1]) - (v1[0, 1] * v1[1, 0])\n",
    "detV2= (v2[0,0] * v2[1, 1]) - (v2[0, 1] * v2[1, 0])\n",
    "print(detV)\n",
    "print(detV1)\n",
    "print(detV2)\n",
    "\n",
    "\n"
   ]
  },
  {
   "cell_type": "code",
   "execution_count": 4,
   "id": "9ae12e8a-c19a-4d83-bfbd-9cb633ef2b95",
   "metadata": {},
   "outputs": [
    {
     "data": {
      "text/latex": [
       "$\\displaystyle 18$"
      ],
      "text/plain": [
       "18"
      ]
     },
     "execution_count": 4,
     "metadata": {},
     "output_type": "execute_result"
    }
   ],
   "source": [
    "det(v)"
   ]
  },
  {
   "cell_type": "code",
   "execution_count": 5,
   "id": "0fa12325-bf0a-4025-be79-bda7e30f3ecd",
   "metadata": {},
   "outputs": [
    {
     "data": {
      "text/latex": [
       "$\\displaystyle 0$"
      ],
      "text/plain": [
       "0"
      ]
     },
     "execution_count": 5,
     "metadata": {},
     "output_type": "execute_result"
    }
   ],
   "source": [
    "\n",
    "det(v1)"
   ]
  },
  {
   "cell_type": "code",
   "execution_count": 6,
   "id": "69a20147-ed00-4ca3-9db2-94039a0a146d",
   "metadata": {},
   "outputs": [
    {
     "data": {
      "text/latex": [
       "$\\displaystyle x^{2} + 5 x + 4$"
      ],
      "text/plain": [
       "x**2 + 5*x + 4"
      ]
     },
     "execution_count": 6,
     "metadata": {},
     "output_type": "execute_result"
    }
   ],
   "source": [
    "det(v2)"
   ]
  },
  {
   "cell_type": "code",
   "execution_count": 7,
   "id": "1da846ab-dd57-41ac-a1b1-c9719d0d78db",
   "metadata": {},
   "outputs": [],
   "source": [
    "#Упражнение 2.2\n"
   ]
  },
  {
   "cell_type": "code",
   "execution_count": 8,
   "id": "c1858f51-ea65-4105-a3b1-e5ffd4aa029d",
   "metadata": {},
   "outputs": [
    {
     "data": {
      "text/latex": [
       "$\\displaystyle 24$"
      ],
      "text/plain": [
       "24"
      ]
     },
     "execution_count": 8,
     "metadata": {},
     "output_type": "execute_result"
    }
   ],
   "source": [
    "a,b,x,c=symbols('a b x c')\n",
    "p=Matrix([[1,2,3],[4,5,6],[7,8,1]])\n",
    "p1=Matrix([[3,4,-5],[8,7,-2],[2,-1,8]])\n",
    "p2=Matrix([[a+x,x,x],[x,b+x,x],[x,x,c+x]])\n",
    "p3=Matrix([[sin(a),cos(a),1],[sin(b),cos(b),1],[sin(c),cos(c),1]])\n",
    "det(p)\n"
   ]
  },
  {
   "cell_type": "code",
   "execution_count": 9,
   "id": "3755201b-94f4-4b04-b4ce-b07ab7836de2",
   "metadata": {},
   "outputs": [
    {
     "data": {
      "text/latex": [
       "$\\displaystyle 0$"
      ],
      "text/plain": [
       "0"
      ]
     },
     "execution_count": 9,
     "metadata": {},
     "output_type": "execute_result"
    }
   ],
   "source": [
    "\n",
    "det(p1)\n"
   ]
  },
  {
   "cell_type": "code",
   "execution_count": 10,
   "id": "570af07a-ac61-4c7f-816d-6ee9f04a35ab",
   "metadata": {},
   "outputs": [
    {
     "data": {
      "text/latex": [
       "$\\displaystyle a b c + a b x + a c x + b c x$"
      ],
      "text/plain": [
       "a*b*c + a*b*x + a*c*x + b*c*x"
      ]
     },
     "execution_count": 10,
     "metadata": {},
     "output_type": "execute_result"
    }
   ],
   "source": [
    "\n",
    "det(p2)\n"
   ]
  },
  {
   "cell_type": "code",
   "execution_count": 11,
   "id": "ebc25507-c5ab-4a19-b29d-a246524af909",
   "metadata": {},
   "outputs": [
    {
     "data": {
      "text/latex": [
       "$\\displaystyle \\sin{\\left(a \\right)} \\cos{\\left(b \\right)} - \\sin{\\left(a \\right)} \\cos{\\left(c \\right)} - \\sin{\\left(b \\right)} \\cos{\\left(a \\right)} + \\sin{\\left(b \\right)} \\cos{\\left(c \\right)} + \\sin{\\left(c \\right)} \\cos{\\left(a \\right)} - \\sin{\\left(c \\right)} \\cos{\\left(b \\right)}$"
      ],
      "text/plain": [
       "sin(a)*cos(b) - sin(a)*cos(c) - sin(b)*cos(a) + sin(b)*cos(c) + sin(c)*cos(a) - sin(c)*cos(b)"
      ]
     },
     "execution_count": 11,
     "metadata": {},
     "output_type": "execute_result"
    }
   ],
   "source": [
    "\n",
    "det(p3)"
   ]
  },
  {
   "cell_type": "code",
   "execution_count": 12,
   "id": "9b982c0d-f305-49ea-b80c-8f7272612651",
   "metadata": {},
   "outputs": [],
   "source": [
    "#Упражнение 2.3"
   ]
  },
  {
   "cell_type": "code",
   "execution_count": 13,
   "id": "7d42d94c-fe3b-445b-8d5d-c0619b90316d",
   "metadata": {},
   "outputs": [
    {
     "name": "stdout",
     "output_type": "stream",
     "text": [
      "[[ 3 -5]\n",
      " [ 2  7]]\n",
      "[[13]\n",
      " [81]]\n",
      "31.0\n",
      "[[ 3 -5]\n",
      " [ 2  7]]\n",
      "[[13 -5]\n",
      " [81  7]]\n",
      "[[ 3 13]\n",
      " [ 2 81]]\n",
      "16.000000000000007\n",
      "7.000000000000001\n",
      "[[13.]\n",
      " [81.]]\n",
      "[[13]\n",
      " [81]]\n"
     ]
    }
   ],
   "source": [
    "A = np.matrix('3 -5 ; 2 7')\n",
    "print(A)\n",
    "B = np.matrix('13 ; 81')\n",
    "print(B)\n",
    "A_det = np.linalg.det(A)\n",
    "print(A_det)\n",
    "X_m = np.matrix(A)\n",
    "print(X_m)\n",
    "X_m[:, 0] = B\n",
    "print(X_m)\n",
    "Y_m = np.matrix(A)\n",
    "Y_m[:, 1] = B\n",
    "print(Y_m)\n",
    "x1 = np.linalg.det(X_m) / A_det\n",
    "x2 = np.linalg.det(Y_m) / A_det\n",
    "print(x1)\n",
    "print(x2)\n",
    "#Сделаем проверку\n",
    "x=np.matrix([[x1],[x2]])\n",
    "print(A*x)\n",
    "print(B)\n"
   ]
  },
  {
   "cell_type": "code",
   "execution_count": 14,
   "id": "09411125-e615-4800-aef7-9ae119244000",
   "metadata": {},
   "outputs": [
    {
     "name": "stdout",
     "output_type": "stream",
     "text": [
      "[[ 3 -4]\n",
      " [-6  8]]\n",
      "[[-6]\n",
      " [12]]\n",
      "0.0\n",
      "[[ 3 -4]\n",
      " [-6  8]]\n",
      "[[-6 -4]\n",
      " [12  8]]\n",
      "[[ 3 -6]\n",
      " [-6 12]]\n",
      "nan\n",
      "nan\n"
     ]
    },
    {
     "name": "stderr",
     "output_type": "stream",
     "text": [
      "C:\\Users\\вольвокс\\AppData\\Local\\Temp\\ipykernel_15076\\3752082692.py:14: RuntimeWarning: invalid value encountered in scalar divide\n",
      "  x1 = np.linalg.det(X_m) / A_det\n",
      "C:\\Users\\вольвокс\\AppData\\Local\\Temp\\ipykernel_15076\\3752082692.py:15: RuntimeWarning: invalid value encountered in scalar divide\n",
      "  x2 = np.linalg.det(Y_m) / A_det\n"
     ]
    }
   ],
   "source": [
    "A = np.matrix('3 -4 ; -6 8')\n",
    "print(A)\n",
    "B = np.matrix('-6 ; 12')\n",
    "print(B)\n",
    "A_det = np.linalg.det(A)\n",
    "print(A_det)\n",
    "X_m = np.matrix(A)\n",
    "print(X_m)\n",
    "X_m[:, 0] = B\n",
    "print(X_m)\n",
    "Y_m = np.matrix(A)\n",
    "Y_m[:, 1] = B\n",
    "print(Y_m)\n",
    "x1 = np.linalg.det(X_m) / A_det\n",
    "x2 = np.linalg.det(Y_m) / A_det\n",
    "print(x1)\n",
    "print(x2)\n",
    "#Определитель равен 0 -> решений нет"
   ]
  },
  {
   "cell_type": "code",
   "execution_count": 15,
   "id": "296fab30-9c80-4dba-9bcb-a44d1b1ff0b6",
   "metadata": {},
   "outputs": [
    {
     "name": "stdout",
     "output_type": "stream",
     "text": [
      "[[  7   2   3]\n",
      " [  5  -3   2]\n",
      " [ 10 -11   5]]\n",
      "[[15]\n",
      " [15]\n",
      " [36]]\n",
      "-36.0\n",
      "[[  7   2   3]\n",
      " [  5  -3   2]\n",
      " [ 10 -11   5]]\n",
      "[[ 15   2   3]\n",
      " [ 15  -3   2]\n",
      " [ 36 -11   5]]\n",
      "[[ 7 15  3]\n",
      " [ 5 15  2]\n",
      " [10 36  5]]\n",
      "[[  7   2  15]\n",
      " [  5  -3  15]\n",
      " [ 10 -11  36]]\n",
      "2.0\n",
      "-1.0000000000000009\n",
      "0.9999999999999964\n",
      "[[15.]\n",
      " [15.]\n",
      " [36.]]\n",
      "[[15]\n",
      " [15]\n",
      " [36]]\n"
     ]
    }
   ],
   "source": [
    "A = np.matrix('7 2 3; 5 -3 2; 10 -11 5')\n",
    "print(A)\n",
    "B = np.matrix('15; 15; 36')\n",
    "print(B)\n",
    "A_det = np.linalg.det(A)\n",
    "print(A_det)\n",
    "X_m = np.matrix(A)\n",
    "print(X_m)\n",
    "X_m[:, 0] = B\n",
    "print(X_m)\n",
    "Y_m = np.matrix(A)\n",
    "Y_m[:, 1] = B\n",
    "print(Y_m)\n",
    "Z_m = np.matrix(A)\n",
    "Z_m[:, 2] = B\n",
    "print(Z_m)\n",
    "x1 = np.linalg.det(X_m) / A_det\n",
    "x2 = np.linalg.det(Y_m) / A_det\n",
    "x3 = np.linalg.det(Z_m) / A_det\n",
    "print(x1)\n",
    "print(x2)\n",
    "print(x3)\n",
    "#Сделаем проверку\n",
    "x=np.matrix([[x1],[x2],[x3]])\n",
    "print(A*x)\n",
    "print(B)\n"
   ]
  },
  {
   "cell_type": "code",
   "execution_count": 18,
   "id": "e9c35e3c-7169-40d8-ba1c-a0730dc4b625",
   "metadata": {},
   "outputs": [
    {
     "name": "stdout",
     "output_type": "stream",
     "text": [
      "[[ 2  1  0]\n",
      " [ 1  0  3]\n",
      " [ 0  5 -1]]\n",
      "[[ 5]\n",
      " [16]\n",
      " [10]]\n",
      "-28.99999999999999\n",
      "[[ 2  1  0]\n",
      " [ 1  0  3]\n",
      " [ 0  5 -1]]\n",
      "[[ 5  1  0]\n",
      " [16  0  3]\n",
      " [10  5 -1]]\n",
      "[[ 2  5  0]\n",
      " [ 1 16  3]\n",
      " [ 0 10 -1]]\n",
      "[[ 2  1  5]\n",
      " [ 1  0 16]\n",
      " [ 0  5 10]]\n",
      "1.0\n",
      "3.000000000000001\n",
      "5.000000000000001\n",
      "[[ 5.]\n",
      " [16.]\n",
      " [10.]]\n",
      "[[ 5]\n",
      " [16]\n",
      " [10]]\n"
     ]
    }
   ],
   "source": [
    "A = np.matrix('2 1 0; 1 0 3; 0 5 -1')\n",
    "print(A)\n",
    "B = np.matrix('5; 16; 10')\n",
    "print(B)\n",
    "A_det = np.linalg.det(A)\n",
    "print(A_det)\n",
    "X_m = np.matrix(A)\n",
    "print(X_m)\n",
    "X_m[:, 0] = B\n",
    "print(X_m)\n",
    "Y_m = np.matrix(A)\n",
    "Y_m[:, 1] = B\n",
    "print(Y_m)\n",
    "Z_m = np.matrix(A)\n",
    "Z_m[:, 2] = B\n",
    "print(Z_m)\n",
    "x1 = np.linalg.det(X_m) / A_det\n",
    "x2 = np.linalg.det(Y_m) / A_det\n",
    "x3 = np.linalg.det(Z_m) / A_det\n",
    "print(x1)\n",
    "print(x2)\n",
    "print(x3)\n",
    "#Сделаем проверку\n",
    "x=np.matrix([[x1],[x2],[x3]])\n",
    "print(A*x)\n",
    "print(B)\n"
   ]
  },
  {
   "cell_type": "markdown",
   "id": "aa7f1bed",
   "metadata": {},
   "source": [
    "#Упражнение 2.4"
   ]
  },
  {
   "cell_type": "code",
   "execution_count": 50,
   "id": "39e687fb",
   "metadata": {},
   "outputs": [
    {
     "name": "stdout",
     "output_type": "stream",
     "text": [
      "Matrix([[3, -5], [2, 7]]) <class 'sympy.matrices.dense.MutableDenseMatrix'>\n",
      "Matrix([[13, 81]])\n",
      "31\n",
      "Matrix([[3, -5], [2, 7]])\n",
      "Matrix([[13, -5], [81, 7]])\n",
      "Matrix([[3, 13], [2, 81]])\n",
      "16\n",
      "7\n",
      "Matrix([[13], [81]])\n",
      "Matrix([[13, 81]])\n"
     ]
    }
   ],
   "source": [
    "from sympy import *\n",
    "\n",
    "A = Matrix([[3,-5],[2,7]])\n",
    "print(A, type (A))\n",
    "B = Matrix([[13,81]])\n",
    "print(B)\n",
    "A_det = det(A)\n",
    "print(A_det)\n",
    "X_m = Matrix(A)\n",
    "print(X_m)\n",
    "X_m[:, 0] = [[13], [81]]\n",
    "print(X_m)\n",
    "Y_m = Matrix(A)\n",
    "Y_m[:, 1] = [[13], [81]]\n",
    "print(Y_m)\n",
    "x1 = det(X_m) / A_det\n",
    "x2 = det(Y_m) / A_det\n",
    "print(x1)\n",
    "print(x2)\n",
    "#Сделаем проверку\n",
    "x=Matrix([[x1],[x2]])\n",
    "print(A*x)\n",
    "print(B)\n"
   ]
  },
  {
   "cell_type": "code",
   "execution_count": 48,
   "id": "423f60fc",
   "metadata": {},
   "outputs": [
    {
     "name": "stdout",
     "output_type": "stream",
     "text": [
      "Matrix([[7, 2, 3], [5, -3, 2], [10, -11, 5]])\n",
      "Matrix([[15], [15], [36]])\n",
      "-36\n",
      "Matrix([[7, 2, 3], [5, -3, 2], [10, -11, 5]])\n",
      "Matrix([[15, 2, 3], [15, -3, 2], [36, -11, 5]])\n",
      "Matrix([[7, 15, 3], [5, 15, 2], [10, 36, 5]])\n",
      "Matrix([[7, 2, 15], [5, -3, 15], [10, -11, 36]])\n",
      "2\n",
      "-1\n",
      "1\n",
      "Matrix([[15], [15], [36]])\n",
      "Matrix([[15], [15], [36]])\n"
     ]
    }
   ],
   "source": [
    "A = Matrix([[7,2,3],[5,-3,2],[10,-11,5]])\n",
    "print(A)\n",
    "B = Matrix([[15], [15], [36]])\n",
    "print(B)\n",
    "A_det = det(A)\n",
    "print(A_det)\n",
    "X_m = Matrix(A)\n",
    "print(X_m)\n",
    "X_m[:, 0] = [[15], [15], [36]]\n",
    "print(X_m)\n",
    "Y_m = Matrix(A)\n",
    "Y_m[:, 1] = [[15], [15], [36]]\n",
    "print(Y_m)\n",
    "Z_m = Matrix(A)\n",
    "Z_m[:, 2] = [[15], [15], [36]]\n",
    "print(Z_m)\n",
    "x1 = det(X_m) / A_det\n",
    "x2 = det(Y_m) / A_det\n",
    "x3 = det(Z_m) / A_det\n",
    "print(x1)\n",
    "print(x2)\n",
    "print(x3)\n",
    "#Сделаем проверку\n",
    "x=Matrix([[x1],[x2],[x3]])\n",
    "print(A*x)\n",
    "print(B)"
   ]
  },
  {
   "cell_type": "code",
   "execution_count": null,
   "id": "23cce4e6",
   "metadata": {},
   "outputs": [],
   "source": [
    "#Упражнение 2.5"
   ]
  },
  {
   "cell_type": "code",
   "execution_count": 52,
   "id": "a01ba77c",
   "metadata": {},
   "outputs": [
    {
     "name": "stdout",
     "output_type": "stream",
     "text": [
      "[[ 3 -5]\n",
      " [ 2  7]]\n",
      "[[13]\n",
      " [81]]\n",
      "[[ 0.22580645  0.16129032]\n",
      " [-0.06451613  0.09677419]]\n"
     ]
    },
    {
     "data": {
      "text/plain": [
       "matrix([[16.],\n",
       "        [ 7.]])"
      ]
     },
     "execution_count": 52,
     "metadata": {},
     "output_type": "execute_result"
    }
   ],
   "source": [
    "A = np.matrix('3 -5; 2 7')\n",
    "B = np.matrix('13 ; 81')\n",
    "print(A)\n",
    "print(B)\n",
    "A_inv = np.linalg.inv(A)\n",
    "print(A_inv)\n",
    "X = A_inv.dot(B)\n",
    "X"
   ]
  },
  {
   "cell_type": "code",
   "execution_count": 53,
   "id": "4c3b5521",
   "metadata": {},
   "outputs": [
    {
     "name": "stdout",
     "output_type": "stream",
     "text": [
      "[[ 3 -4]\n",
      " [-6  8]]\n",
      "[[-6]\n",
      " [12]]\n"
     ]
    },
    {
     "ename": "LinAlgError",
     "evalue": "Singular matrix",
     "output_type": "error",
     "traceback": [
      "\u001b[1;31m---------------------------------------------------------------------------\u001b[0m",
      "\u001b[1;31mLinAlgError\u001b[0m                               Traceback (most recent call last)",
      "\u001b[1;32mc:\\Users\\вольвокс\\Desktop\\лабы\\Pinaev_lab_ algebra\\lab_2.ipynb Cell 22\u001b[0m line \u001b[0;36m5\n\u001b[0;32m      <a href='vscode-notebook-cell:/c%3A/Users/%D0%B2%D0%BE%D0%BB%D1%8C%D0%B2%D0%BE%D0%BA%D1%81/Desktop/%D0%BB%D0%B0%D0%B1%D1%8B/Pinaev_lab_%20algebra/lab_2.ipynb#X34sZmlsZQ%3D%3D?line=2'>3</a>\u001b[0m \u001b[39mprint\u001b[39m(A)\n\u001b[0;32m      <a href='vscode-notebook-cell:/c%3A/Users/%D0%B2%D0%BE%D0%BB%D1%8C%D0%B2%D0%BE%D0%BA%D1%81/Desktop/%D0%BB%D0%B0%D0%B1%D1%8B/Pinaev_lab_%20algebra/lab_2.ipynb#X34sZmlsZQ%3D%3D?line=3'>4</a>\u001b[0m \u001b[39mprint\u001b[39m(B)\n\u001b[1;32m----> <a href='vscode-notebook-cell:/c%3A/Users/%D0%B2%D0%BE%D0%BB%D1%8C%D0%B2%D0%BE%D0%BA%D1%81/Desktop/%D0%BB%D0%B0%D0%B1%D1%8B/Pinaev_lab_%20algebra/lab_2.ipynb#X34sZmlsZQ%3D%3D?line=4'>5</a>\u001b[0m A_inv \u001b[39m=\u001b[39m np\u001b[39m.\u001b[39;49mlinalg\u001b[39m.\u001b[39;49minv(A)\n\u001b[0;32m      <a href='vscode-notebook-cell:/c%3A/Users/%D0%B2%D0%BE%D0%BB%D1%8C%D0%B2%D0%BE%D0%BA%D1%81/Desktop/%D0%BB%D0%B0%D0%B1%D1%8B/Pinaev_lab_%20algebra/lab_2.ipynb#X34sZmlsZQ%3D%3D?line=5'>6</a>\u001b[0m \u001b[39mprint\u001b[39m(A_inv)\n\u001b[0;32m      <a href='vscode-notebook-cell:/c%3A/Users/%D0%B2%D0%BE%D0%BB%D1%8C%D0%B2%D0%BE%D0%BA%D1%81/Desktop/%D0%BB%D0%B0%D0%B1%D1%8B/Pinaev_lab_%20algebra/lab_2.ipynb#X34sZmlsZQ%3D%3D?line=6'>7</a>\u001b[0m X \u001b[39m=\u001b[39m A_inv\u001b[39m.\u001b[39mdot(B)\n",
      "File \u001b[1;32m~\\AppData\\Local\\Packages\\PythonSoftwareFoundation.Python.3.11_qbz5n2kfra8p0\\LocalCache\\local-packages\\Python311\\site-packages\\numpy\\linalg\\linalg.py:561\u001b[0m, in \u001b[0;36minv\u001b[1;34m(a)\u001b[0m\n\u001b[0;32m    559\u001b[0m signature \u001b[39m=\u001b[39m \u001b[39m'\u001b[39m\u001b[39mD->D\u001b[39m\u001b[39m'\u001b[39m \u001b[39mif\u001b[39;00m isComplexType(t) \u001b[39melse\u001b[39;00m \u001b[39m'\u001b[39m\u001b[39md->d\u001b[39m\u001b[39m'\u001b[39m\n\u001b[0;32m    560\u001b[0m extobj \u001b[39m=\u001b[39m get_linalg_error_extobj(_raise_linalgerror_singular)\n\u001b[1;32m--> 561\u001b[0m ainv \u001b[39m=\u001b[39m _umath_linalg\u001b[39m.\u001b[39;49minv(a, signature\u001b[39m=\u001b[39;49msignature, extobj\u001b[39m=\u001b[39;49mextobj)\n\u001b[0;32m    562\u001b[0m \u001b[39mreturn\u001b[39;00m wrap(ainv\u001b[39m.\u001b[39mastype(result_t, copy\u001b[39m=\u001b[39m\u001b[39mFalse\u001b[39;00m))\n",
      "File \u001b[1;32m~\\AppData\\Local\\Packages\\PythonSoftwareFoundation.Python.3.11_qbz5n2kfra8p0\\LocalCache\\local-packages\\Python311\\site-packages\\numpy\\linalg\\linalg.py:112\u001b[0m, in \u001b[0;36m_raise_linalgerror_singular\u001b[1;34m(err, flag)\u001b[0m\n\u001b[0;32m    111\u001b[0m \u001b[39mdef\u001b[39;00m \u001b[39m_raise_linalgerror_singular\u001b[39m(err, flag):\n\u001b[1;32m--> 112\u001b[0m     \u001b[39mraise\u001b[39;00m LinAlgError(\u001b[39m\"\u001b[39m\u001b[39mSingular matrix\u001b[39m\u001b[39m\"\u001b[39m)\n",
      "\u001b[1;31mLinAlgError\u001b[0m: Singular matrix"
     ]
    }
   ],
   "source": [
    "A = np.matrix('3 -4; -6 8')\n",
    "B = np.matrix('-6 ; 12')\n",
    "print(A)\n",
    "print(B)\n",
    "A_inv = np.linalg.inv(A)\n",
    "print(A_inv)\n",
    "X = A_inv.dot(B)\n",
    "X\n",
    "#Решений нет"
   ]
  },
  {
   "cell_type": "code",
   "execution_count": 54,
   "id": "dfcb1820",
   "metadata": {},
   "outputs": [
    {
     "name": "stdout",
     "output_type": "stream",
     "text": [
      "[[  7   2   3]\n",
      " [  5  -3   2]\n",
      " [ 10 -11   5]]\n",
      "[[15]\n",
      " [15]\n",
      " [36]]\n",
      "[[-0.19444444  1.19444444 -0.36111111]\n",
      " [ 0.13888889 -0.13888889 -0.02777778]\n",
      " [ 0.69444444 -2.69444444  0.86111111]]\n"
     ]
    },
    {
     "data": {
      "text/plain": [
       "matrix([[ 2.],\n",
       "        [-1.],\n",
       "        [ 1.]])"
      ]
     },
     "execution_count": 54,
     "metadata": {},
     "output_type": "execute_result"
    }
   ],
   "source": [
    "A = np.matrix('7 2 3; 5 -3 2; 10 -11 5')\n",
    "B = np.matrix('15 ; 15 ; 36')\n",
    "print(A)\n",
    "print(B)\n",
    "A_inv = np.linalg.inv(A)\n",
    "print(A_inv)\n",
    "X = A_inv.dot(B)\n",
    "X"
   ]
  },
  {
   "cell_type": "code",
   "execution_count": 55,
   "id": "d68c89d8",
   "metadata": {},
   "outputs": [
    {
     "name": "stdout",
     "output_type": "stream",
     "text": [
      "[[ 2  1  0]\n",
      " [ 1  0  3]\n",
      " [ 0  5 -1]]\n",
      "[[ 5]\n",
      " [16]\n",
      " [10]]\n",
      "[[ 0.51724138 -0.03448276 -0.10344828]\n",
      " [-0.03448276  0.06896552  0.20689655]\n",
      " [-0.17241379  0.34482759  0.03448276]]\n"
     ]
    },
    {
     "data": {
      "text/plain": [
       "matrix([[1.],\n",
       "        [3.],\n",
       "        [5.]])"
      ]
     },
     "execution_count": 55,
     "metadata": {},
     "output_type": "execute_result"
    }
   ],
   "source": [
    "A = np.matrix('2 1 0; 1 0 3; 0 5 -1')\n",
    "B = np.matrix('5 ; 16; 10')\n",
    "print(A)\n",
    "print(B)\n",
    "A_inv = np.linalg.inv(A)\n",
    "print(A_inv)\n",
    "X = A_inv.dot(B)\n",
    "X"
   ]
  }
 ],
 "metadata": {
  "kernelspec": {
   "display_name": "Python 3 (ipykernel)",
   "language": "python",
   "name": "python3"
  },
  "language_info": {
   "codemirror_mode": {
    "name": "ipython",
    "version": 3
   },
   "file_extension": ".py",
   "mimetype": "text/x-python",
   "name": "python",
   "nbconvert_exporter": "python",
   "pygments_lexer": "ipython3",
   "version": "3.11.5"
  }
 },
 "nbformat": 4,
 "nbformat_minor": 5
}
