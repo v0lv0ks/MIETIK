{
 "cells": [
  {
   "cell_type": "code",
   "execution_count": 2,
   "id": "0a61603f-4f1a-4e52-9e9e-88a29ccdeef6",
   "metadata": {},
   "outputs": [],
   "source": [
    "k=0"
   ]
  },
  {
   "cell_type": "code",
   "execution_count": 3,
   "id": "d635710f-5a99-4f36-a7c9-4227486b2493",
   "metadata": {},
   "outputs": [
    {
     "data": {
      "text/plain": [
       "6"
      ]
     },
     "execution_count": 3,
     "metadata": {},
     "output_type": "execute_result"
    }
   ],
   "source": [
    "2*3"
   ]
  },
  {
   "cell_type": "code",
   "execution_count": 5,
   "id": "5ab2fd76-0384-44e7-baee-60f958c08dc0",
   "metadata": {},
   "outputs": [],
   "source": [
    "k=3+4"
   ]
  },
  {
   "cell_type": "code",
   "execution_count": 6,
   "id": "aea90449-46e4-4471-890a-bb8399d967b3",
   "metadata": {},
   "outputs": [
    {
     "name": "stdout",
     "output_type": "stream",
     "text": [
      "7\n"
     ]
    }
   ],
   "source": [
    "print(k)"
   ]
  },
  {
   "cell_type": "code",
   "execution_count": 7,
   "id": "dbb37133-e170-471f-b098-25a640804353",
   "metadata": {},
   "outputs": [
    {
     "data": {
      "text/plain": [
       "48"
      ]
     },
     "execution_count": 7,
     "metadata": {},
     "output_type": "execute_result"
    }
   ],
   "source": [
    "(k+1)*(k-1)"
   ]
  },
  {
   "cell_type": "code",
   "execution_count": 10,
   "id": "9ecb80ad-b963-4fca-bb6c-535f7bd730da",
   "metadata": {},
   "outputs": [],
   "source": [
    "x=0"
   ]
  },
  {
   "cell_type": "code",
   "execution_count": 11,
   "id": "51187bb9-0b9e-4b4f-9583-498a78559c1c",
   "metadata": {},
   "outputs": [
    {
     "data": {
      "text/plain": [
       "-1"
      ]
     },
     "execution_count": 11,
     "metadata": {},
     "output_type": "execute_result"
    }
   ],
   "source": [
    "(x+1)*(x-1)"
   ]
  },
  {
   "cell_type": "code",
   "execution_count": 12,
   "id": "5f00a891-c94c-45db-a457-d9563c8b6316",
   "metadata": {},
   "outputs": [],
   "source": [
    "h=(k+2)*3+\\\n",
    "3+(k+7)"
   ]
  },
  {
   "cell_type": "code",
   "execution_count": 13,
   "id": "a48d26ec-ded5-408d-be71-590798bd7202",
   "metadata": {},
   "outputs": [
    {
     "name": "stdout",
     "output_type": "stream",
     "text": [
      "44\n"
     ]
    }
   ],
   "source": [
    "print(h)"
   ]
  },
  {
   "cell_type": "code",
   "execution_count": 23,
   "id": "b08dca78-8bdb-4395-92d0-47628211b811",
   "metadata": {},
   "outputs": [],
   "source": []
  },
  {
   "cell_type": "code",
   "execution_count": 26,
   "id": "b22bd009-3f8a-40da-8db2-e9186674ddbe",
   "metadata": {},
   "outputs": [
    {
     "data": {
      "text/plain": [
       "18"
      ]
     },
     "execution_count": 26,
     "metadata": {},
     "output_type": "execute_result"
    }
   ],
   "source": [
    "a=1\n",
    "b=3\n",
    "c=2\n",
    "(a+2)*(b-1)+c**2*b\n"
   ]
  },
  {
   "cell_type": "code",
   "execution_count": 19,
   "id": "01ec266b-dc7b-48fe-acc5-ac6499ca8916",
   "metadata": {},
   "outputs": [
    {
     "name": "stdout",
     "output_type": "stream",
     "text": [
      "6.30\n",
      "       6.3\n",
      "6.3       \n",
      "   6.3    \n",
      "6.300000000000001\n",
      "6.3\n",
      "6.300000e+00\n",
      "6.30E+00\n",
      "False\n"
     ]
    }
   ],
   "source": [
    "a = 4.2\n",
    "b = 2.1\n",
    "print(format(a + b,'0.2f'))\n",
    "print(format(a+b, '>10.1f'))\n",
    "print(format(a+b, '<10.1f'))\n",
    "print(format(a+b, '^10.1f'))#piton moget rabotat tolko so stepenuami dvoiki,vo vsex ost.sluchayax poyavlautsa izbitochnie cifrui\n",
    "print(format(a+b, ','))\n",
    "print(format(a+b, '0,.1f'))\n",
    "print(format(a+b, 'e'))\n",
    "print(format(a+b,'0.2E'))\n",
    "print(a + b == 6.3)\n"
   ]
  },
  {
   "cell_type": "code",
   "execution_count": 6,
   "id": "d2cdde62-3230-4d22-b9d4-64c99b16bee5",
   "metadata": {},
   "outputs": [
    {
     "name": "stdout",
     "output_type": "stream",
     "text": [
      " 0.190\n",
      "16.1\n",
      " 4.923\n"
     ]
    }
   ],
   "source": [
    "x= 1/3-1/7\n",
    "y=2**4+2**(-4)\n",
    "z=(3+0.2)/(1-0.35)\n",
    "print(format(x,'6.3f'))\n",
    "print(format(y,'0.3'))\n",
    "print(format(z,'6.3f'))\n"
   ]
  },
  {
   "cell_type": "code",
   "execution_count": 12,
   "id": "b1399613-416f-4637-b55f-dc5dd03a5cad",
   "metadata": {},
   "outputs": [
    {
     "name": "stdin",
     "output_type": "stream",
     "text": [
      "Once deleted, variables cannot be recovered. Proceed (y/[n])?  y\n"
     ]
    },
    {
     "name": "stdout",
     "output_type": "stream",
     "text": [
      "Variable   Type    Data/Info\n",
      "----------------------------\n",
      "t          int     4\n",
      "x          int     1\n",
      "y          int     2\n",
      "z          int     3\n",
      "Variable   Type    Data/Info\n",
      "----------------------------\n",
      "t          int     4\n",
      "y          int     2\n",
      "z          int     3\n"
     ]
    }
   ],
   "source": [
    "%reset\n",
    "x=1\n",
    "y=2\n",
    "z=3\n",
    "t=4\n",
    "%whos\n",
    "del(x)\n",
    "%whos\n"
   ]
  },
  {
   "cell_type": "code",
   "execution_count": 18,
   "id": "442957e2-6638-4dfa-b75a-0945ceef5722",
   "metadata": {},
   "outputs": [
    {
     "name": "stdout",
     "output_type": "stream",
     "text": [
      "2.718281828459045\n",
      "3.141592653589793\n",
      "2.8951125538319022\n",
      "0.9999999999999999\n"
     ]
    }
   ],
   "source": [
    "\n",
    "from math import *\n",
    "print(math.e)\n",
    "print(math.pi)\n",
    "print(math.log(pow(e,3)-2))\n",
    "print(math.sqrt(pow(sin(1),2)+pow(cos(1),2)))"
   ]
  },
  {
   "cell_type": "code",
   "execution_count": null,
   "id": "c91f85a4-9b7a-465c-9edb-fcaf562c63fa",
   "metadata": {},
   "outputs": [],
   "source": []
  },
  {
   "cell_type": "code",
   "execution_count": null,
   "id": "990d1d74-d306-4c77-872f-4e509d62cfc4",
   "metadata": {},
   "outputs": [],
   "source": []
  }
 ],
 "metadata": {
  "kernelspec": {
   "display_name": "Python 3 (ipykernel)",
   "language": "python",
   "name": "python3"
  },
  "language_info": {
   "codemirror_mode": {
    "name": "ipython",
    "version": 3
   },
   "file_extension": ".py",
   "mimetype": "text/x-python",
   "name": "python",
   "nbconvert_exporter": "python",
   "pygments_lexer": "ipython3",
   "version": "3.10.9"
  }
 },
 "nbformat": 4,
 "nbformat_minor": 5
}
