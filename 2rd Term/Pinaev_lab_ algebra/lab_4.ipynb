{
 "cells": [
  {
   "cell_type": "code",
   "execution_count": 2,
   "id": "12bc18eb-4db6-4f57-89c7-c77efe590e44",
   "metadata": {},
   "outputs": [],
   "source": [
    "import numpy as np\n",
    "import matplotlib.pyplot as plt\n",
    "from sympy import *"
   ]
  },
  {
   "cell_type": "code",
   "execution_count": 3,
   "id": "69264f53",
   "metadata": {},
   "outputs": [],
   "source": [
    "#Упражнение 1"
   ]
  },
  {
   "cell_type": "code",
   "execution_count": 4,
   "id": "43c10c14",
   "metadata": {},
   "outputs": [
    {
     "name": "stdout",
     "output_type": "stream",
     "text": [
      "общее уравненение: -3*x + 4*y + 3\n",
      "параметрическое уравнение: Point2D(4*t + 1, 3*t)\n"
     ]
    }
   ],
   "source": [
    "p1,p2 = Point(1,0), Point(5,3) \n",
    "L = Line(p1, p2) \n",
    "print('общее уравненение:',L.equation())\n",
    "print('параметрическое уравнение:',L.arbitrary_point())"
   ]
  },
  {
   "cell_type": "code",
   "execution_count": 5,
   "id": "1eb4614f",
   "metadata": {},
   "outputs": [],
   "source": [
    "#Упражнение 2"
   ]
  },
  {
   "cell_type": "code",
   "execution_count": 6,
   "id": "03466e3f",
   "metadata": {},
   "outputs": [
    {
     "name": "stdout",
     "output_type": "stream",
     "text": [
      "Расстояние от точки m до прямой p: 14*sqrt(17)/17\n"
     ]
    }
   ],
   "source": [
    "p=Line((1,4),(5,3))\n",
    "m=Point(-1,1)\n",
    "print('Расстояние от точки m до прямой p:', p.distance(m))"
   ]
  },
  {
   "cell_type": "code",
   "execution_count": 7,
   "id": "101501c2",
   "metadata": {},
   "outputs": [],
   "source": [
    "#Упражнение 3"
   ]
  },
  {
   "cell_type": "code",
   "execution_count": 8,
   "id": "7cf7a7c5",
   "metadata": {},
   "outputs": [
    {
     "name": "stdout",
     "output_type": "stream",
     "text": [
      "L1: -3*x + 2*y\n",
      "L2: -3*x + 2*y - 10\n",
      "L3: -2*x - 3*y + 2\n"
     ]
    },
    {
     "data": {
      "image/png": "[encoded data removed]",
      "text/plain": [
       "<Figure size 640x480 with 1 Axes>"
      ]
     },
     "metadata": {},
     "output_type": "display_data"
    }
   ],
   "source": [
    "L1=Line((0,0),(2,3))\n",
    "M=Point(-2,2)\n",
    "print('L1:', L1.equation())\n",
    "L2=L1.parallel_line(M)\n",
    "print('L2:',L2.equation())\n",
    "L3=L1.perpendicular_line(M)\n",
    "print('L3:',L3.equation())\n",
    "\n",
    "x = np.linspace(-5, 5, 100) #создаёт массив с нижней границей -5 \n",
    "#и верхней границей 5, в созданном массиве 100 элементов\n",
    "n = [5, -4] # нормаль прямой\n",
    "plt.subplot()\n",
    "y1, = plt.plot(x, (3/2*x),label='-3*x + 2*y' ) #построение графика функции y=(3/2x)\n",
    "y2, = plt.plot(x, (3/2*x +5), label='-3*x + 2*y - 10') #построение графика функции y=(3/2*x +5)\n",
    "y3, = plt.plot(x, (-2/3*x + 2/3), label='-2*x - 3*y + 2') #построение графика функции y=(2/3*x + 2/3)\n",
    "plt.legend(handles=[y1,y2,y3])\n",
    "plt.xlabel('x') #название горизонтальной оси\n",
    "plt.ylabel('y') #название вертикальной оси\n",
    "plt.grid () #накладываем сетку\n",
    "plt.axis('equal')\n",
    "plt.show()\n"
   ]
  },
  {
   "cell_type": "code",
   "execution_count": 9,
   "id": "f82f88b9",
   "metadata": {},
   "outputs": [],
   "source": [
    "#Упражнение 4"
   ]
  },
  {
   "cell_type": "code",
   "execution_count": 10,
   "id": "31f952e8",
   "metadata": {},
   "outputs": [
    {
     "name": "stdout",
     "output_type": "stream",
     "text": [
      "Point2D(1/4, 1/4)\n"
     ]
    }
   ],
   "source": [
    "M=(0.5,0)\n",
    "L=Line((-1,-1),(1,1))#прямая вида y=x\n",
    "L1=L.projection(M)\n",
    "print(L1)"
   ]
  },
  {
   "cell_type": "code",
   "execution_count": 11,
   "id": "fb93aa89",
   "metadata": {},
   "outputs": [],
   "source": [
    "#Упражнение 5"
   ]
  },
  {
   "cell_type": "code",
   "execution_count": 16,
   "id": "86584c40",
   "metadata": {},
   "outputs": [
    {
     "name": "stdout",
     "output_type": "stream",
     "text": [
      "-3*x - 3*y + 3/5\n"
     ]
    },
    {
     "ename": "AttributeError",
     "evalue": "'FancyArrow' object has no attribute 'do_3d_projection'",
     "output_type": "error",
     "traceback": [
      "\u001b[1;31m---------------------------------------------------------------------------\u001b[0m",
      "\u001b[1;31mAttributeError\u001b[0m                            Traceback (most recent call last)",
      "File \u001b[1;32m~\\AppData\\Local\\Packages\\PythonSoftwareFoundation.Python.3.11_qbz5n2kfra8p0\\LocalCache\\local-packages\\Python311\\site-packages\\IPython\\core\\formatters.py:340\u001b[0m, in \u001b[0;36mBaseFormatter.__call__\u001b[1;34m(self, obj)\u001b[0m\n\u001b[0;32m    338\u001b[0m     \u001b[39mpass\u001b[39;00m\n\u001b[0;32m    339\u001b[0m \u001b[39melse\u001b[39;00m:\n\u001b[1;32m--> 340\u001b[0m     \u001b[39mreturn\u001b[39;00m printer(obj)\n\u001b[0;32m    341\u001b[0m \u001b[39m# Finally look for special method names\u001b[39;00m\n\u001b[0;32m    342\u001b[0m method \u001b[39m=\u001b[39m get_real_method(obj, \u001b[39mself\u001b[39m\u001b[39m.\u001b[39mprint_method)\n",
      "File \u001b[1;32m~\\AppData\\Local\\Packages\\PythonSoftwareFoundation.Python.3.11_qbz5n2kfra8p0\\LocalCache\\local-packages\\Python311\\site-packages\\IPython\\core\\pylabtools.py:152\u001b[0m, in \u001b[0;36mprint_figure\u001b[1;34m(fig, fmt, bbox_inches, base64, **kwargs)\u001b[0m\n\u001b[0;32m    149\u001b[0m     \u001b[39mfrom\u001b[39;00m \u001b[39mmatplotlib\u001b[39;00m\u001b[39m.\u001b[39;00m\u001b[39mbackend_bases\u001b[39;00m \u001b[39mimport\u001b[39;00m FigureCanvasBase\n\u001b[0;32m    150\u001b[0m     FigureCanvasBase(fig)\n\u001b[1;32m--> 152\u001b[0m fig\u001b[39m.\u001b[39;49mcanvas\u001b[39m.\u001b[39;49mprint_figure(bytes_io, \u001b[39m*\u001b[39;49m\u001b[39m*\u001b[39;49mkw)\n\u001b[0;32m    153\u001b[0m data \u001b[39m=\u001b[39m bytes_io\u001b[39m.\u001b[39mgetvalue()\n\u001b[0;32m    154\u001b[0m \u001b[39mif\u001b[39;00m fmt \u001b[39m==\u001b[39m \u001b[39m'\u001b[39m\u001b[39msvg\u001b[39m\u001b[39m'\u001b[39m:\n",
      "File \u001b[1;32m~\\AppData\\Local\\Packages\\PythonSoftwareFoundation.Python.3.11_qbz5n2kfra8p0\\LocalCache\\local-packages\\Python311\\site-packages\\matplotlib\\backend_bases.py:2158\u001b[0m, in \u001b[0;36mFigureCanvasBase.print_figure\u001b[1;34m(self, filename, dpi, facecolor, edgecolor, orientation, format, bbox_inches, pad_inches, bbox_extra_artists, backend, **kwargs)\u001b[0m\n\u001b[0;32m   2155\u001b[0m     \u001b[39m# we do this instead of `self.figure.draw_without_rendering`\u001b[39;00m\n\u001b[0;32m   2156\u001b[0m     \u001b[39m# so that we can inject the orientation\u001b[39;00m\n\u001b[0;32m   2157\u001b[0m     \u001b[39mwith\u001b[39;00m \u001b[39mgetattr\u001b[39m(renderer, \u001b[39m\"\u001b[39m\u001b[39m_draw_disabled\u001b[39m\u001b[39m\"\u001b[39m, nullcontext)():\n\u001b[1;32m-> 2158\u001b[0m         \u001b[39mself\u001b[39;49m\u001b[39m.\u001b[39;49mfigure\u001b[39m.\u001b[39;49mdraw(renderer)\n\u001b[0;32m   2159\u001b[0m \u001b[39mif\u001b[39;00m bbox_inches:\n\u001b[0;32m   2160\u001b[0m     \u001b[39mif\u001b[39;00m bbox_inches \u001b[39m==\u001b[39m \u001b[39m\"\u001b[39m\u001b[39mtight\u001b[39m\u001b[39m\"\u001b[39m:\n",
      "File \u001b[1;32m~\\AppData\\Local\\Packages\\PythonSoftwareFoundation.Python.3.11_qbz5n2kfra8p0\\LocalCache\\local-packages\\Python311\\site-packages\\matplotlib\\artist.py:95\u001b[0m, in \u001b[0;36m_finalize_rasterization.<locals>.draw_wrapper\u001b[1;34m(artist, renderer, *args, **kwargs)\u001b[0m\n\u001b[0;32m     93\u001b[0m \u001b[39m@wraps\u001b[39m(draw)\n\u001b[0;32m     94\u001b[0m \u001b[39mdef\u001b[39;00m \u001b[39mdraw_wrapper\u001b[39m(artist, renderer, \u001b[39m*\u001b[39margs, \u001b[39m*\u001b[39m\u001b[39m*\u001b[39mkwargs):\n\u001b[1;32m---> 95\u001b[0m     result \u001b[39m=\u001b[39m draw(artist, renderer, \u001b[39m*\u001b[39;49margs, \u001b[39m*\u001b[39;49m\u001b[39m*\u001b[39;49mkwargs)\n\u001b[0;32m     96\u001b[0m     \u001b[39mif\u001b[39;00m renderer\u001b[39m.\u001b[39m_rasterizing:\n\u001b[0;32m     97\u001b[0m         renderer\u001b[39m.\u001b[39mstop_rasterizing()\n",
      "File \u001b[1;32m~\\AppData\\Local\\Packages\\PythonSoftwareFoundation.Python.3.11_qbz5n2kfra8p0\\LocalCache\\local-packages\\Python311\\site-packages\\matplotlib\\artist.py:72\u001b[0m, in \u001b[0;36mallow_rasterization.<locals>.draw_wrapper\u001b[1;34m(artist, renderer)\u001b[0m\n\u001b[0;32m     69\u001b[0m     \u001b[39mif\u001b[39;00m artist\u001b[39m.\u001b[39mget_agg_filter() \u001b[39mis\u001b[39;00m \u001b[39mnot\u001b[39;00m \u001b[39mNone\u001b[39;00m:\n\u001b[0;32m     70\u001b[0m         renderer\u001b[39m.\u001b[39mstart_filter()\n\u001b[1;32m---> 72\u001b[0m     \u001b[39mreturn\u001b[39;00m draw(artist, renderer)\n\u001b[0;32m     73\u001b[0m \u001b[39mfinally\u001b[39;00m:\n\u001b[0;32m     74\u001b[0m     \u001b[39mif\u001b[39;00m artist\u001b[39m.\u001b[39mget_agg_filter() \u001b[39mis\u001b[39;00m \u001b[39mnot\u001b[39;00m \u001b[39mNone\u001b[39;00m:\n",
      "File \u001b[1;32m~\\AppData\\Local\\Packages\\PythonSoftwareFoundation.Python.3.11_qbz5n2kfra8p0\\LocalCache\\local-packages\\Python311\\site-packages\\matplotlib\\figure.py:3154\u001b[0m, in \u001b[0;36mFigure.draw\u001b[1;34m(self, renderer)\u001b[0m\n\u001b[0;32m   3151\u001b[0m         \u001b[39m# ValueError can occur when resizing a window.\u001b[39;00m\n\u001b[0;32m   3153\u001b[0m \u001b[39mself\u001b[39m\u001b[39m.\u001b[39mpatch\u001b[39m.\u001b[39mdraw(renderer)\n\u001b[1;32m-> 3154\u001b[0m mimage\u001b[39m.\u001b[39;49m_draw_list_compositing_images(\n\u001b[0;32m   3155\u001b[0m     renderer, \u001b[39mself\u001b[39;49m, artists, \u001b[39mself\u001b[39;49m\u001b[39m.\u001b[39;49msuppressComposite)\n\u001b[0;32m   3157\u001b[0m \u001b[39mfor\u001b[39;00m sfig \u001b[39min\u001b[39;00m \u001b[39mself\u001b[39m\u001b[39m.\u001b[39msubfigs:\n\u001b[0;32m   3158\u001b[0m     sfig\u001b[39m.\u001b[39mdraw(renderer)\n",
      "File \u001b[1;32m~\\AppData\\Local\\Packages\\PythonSoftwareFoundation.Python.3.11_qbz5n2kfra8p0\\LocalCache\\local-packages\\Python311\\site-packages\\matplotlib\\image.py:132\u001b[0m, in \u001b[0;36m_draw_list_compositing_images\u001b[1;34m(renderer, parent, artists, suppress_composite)\u001b[0m\n\u001b[0;32m    130\u001b[0m \u001b[39mif\u001b[39;00m not_composite \u001b[39mor\u001b[39;00m \u001b[39mnot\u001b[39;00m has_images:\n\u001b[0;32m    131\u001b[0m     \u001b[39mfor\u001b[39;00m a \u001b[39min\u001b[39;00m artists:\n\u001b[1;32m--> 132\u001b[0m         a\u001b[39m.\u001b[39;49mdraw(renderer)\n\u001b[0;32m    133\u001b[0m \u001b[39melse\u001b[39;00m:\n\u001b[0;32m    134\u001b[0m     \u001b[39m# Composite any adjacent images together\u001b[39;00m\n\u001b[0;32m    135\u001b[0m     image_group \u001b[39m=\u001b[39m []\n",
      "File \u001b[1;32m~\\AppData\\Local\\Packages\\PythonSoftwareFoundation.Python.3.11_qbz5n2kfra8p0\\LocalCache\\local-packages\\Python311\\site-packages\\matplotlib\\artist.py:72\u001b[0m, in \u001b[0;36mallow_rasterization.<locals>.draw_wrapper\u001b[1;34m(artist, renderer)\u001b[0m\n\u001b[0;32m     69\u001b[0m     \u001b[39mif\u001b[39;00m artist\u001b[39m.\u001b[39mget_agg_filter() \u001b[39mis\u001b[39;00m \u001b[39mnot\u001b[39;00m \u001b[39mNone\u001b[39;00m:\n\u001b[0;32m     70\u001b[0m         renderer\u001b[39m.\u001b[39mstart_filter()\n\u001b[1;32m---> 72\u001b[0m     \u001b[39mreturn\u001b[39;00m draw(artist, renderer)\n\u001b[0;32m     73\u001b[0m \u001b[39mfinally\u001b[39;00m:\n\u001b[0;32m     74\u001b[0m     \u001b[39mif\u001b[39;00m artist\u001b[39m.\u001b[39mget_agg_filter() \u001b[39mis\u001b[39;00m \u001b[39mnot\u001b[39;00m \u001b[39mNone\u001b[39;00m:\n",
      "File \u001b[1;32m~\\AppData\\Local\\Packages\\PythonSoftwareFoundation.Python.3.11_qbz5n2kfra8p0\\LocalCache\\local-packages\\Python311\\site-packages\\mpl_toolkits\\mplot3d\\axes3d.py:472\u001b[0m, in \u001b[0;36mAxes3D.draw\u001b[1;34m(self, renderer)\u001b[0m\n\u001b[0;32m    468\u001b[0m zorder_offset \u001b[39m=\u001b[39m \u001b[39mmax\u001b[39m(axis\u001b[39m.\u001b[39mget_zorder()\n\u001b[0;32m    469\u001b[0m                     \u001b[39mfor\u001b[39;00m axis \u001b[39min\u001b[39;00m \u001b[39mself\u001b[39m\u001b[39m.\u001b[39m_axis_map\u001b[39m.\u001b[39mvalues()) \u001b[39m+\u001b[39m \u001b[39m1\u001b[39m\n\u001b[0;32m    470\u001b[0m collection_zorder \u001b[39m=\u001b[39m patch_zorder \u001b[39m=\u001b[39m zorder_offset\n\u001b[1;32m--> 472\u001b[0m \u001b[39mfor\u001b[39;00m artist \u001b[39min\u001b[39;00m \u001b[39msorted\u001b[39m(collections_and_patches,\n\u001b[0;32m    473\u001b[0m                      key\u001b[39m=\u001b[39m\u001b[39mlambda\u001b[39;00m artist: artist\u001b[39m.\u001b[39mdo_3d_projection(),\n\u001b[0;32m    474\u001b[0m                      reverse\u001b[39m=\u001b[39m\u001b[39mTrue\u001b[39;00m):\n\u001b[0;32m    475\u001b[0m     \u001b[39mif\u001b[39;00m \u001b[39misinstance\u001b[39m(artist, mcoll\u001b[39m.\u001b[39mCollection):\n\u001b[0;32m    476\u001b[0m         artist\u001b[39m.\u001b[39mzorder \u001b[39m=\u001b[39m collection_zorder\n",
      "File \u001b[1;32m~\\AppData\\Local\\Packages\\PythonSoftwareFoundation.Python.3.11_qbz5n2kfra8p0\\LocalCache\\local-packages\\Python311\\site-packages\\mpl_toolkits\\mplot3d\\axes3d.py:473\u001b[0m, in \u001b[0;36mAxes3D.draw.<locals>.<lambda>\u001b[1;34m(artist)\u001b[0m\n\u001b[0;32m    468\u001b[0m zorder_offset \u001b[39m=\u001b[39m \u001b[39mmax\u001b[39m(axis\u001b[39m.\u001b[39mget_zorder()\n\u001b[0;32m    469\u001b[0m                     \u001b[39mfor\u001b[39;00m axis \u001b[39min\u001b[39;00m \u001b[39mself\u001b[39m\u001b[39m.\u001b[39m_axis_map\u001b[39m.\u001b[39mvalues()) \u001b[39m+\u001b[39m \u001b[39m1\u001b[39m\n\u001b[0;32m    470\u001b[0m collection_zorder \u001b[39m=\u001b[39m patch_zorder \u001b[39m=\u001b[39m zorder_offset\n\u001b[0;32m    472\u001b[0m \u001b[39mfor\u001b[39;00m artist \u001b[39min\u001b[39;00m \u001b[39msorted\u001b[39m(collections_and_patches,\n\u001b[1;32m--> 473\u001b[0m                      key\u001b[39m=\u001b[39m\u001b[39mlambda\u001b[39;00m artist: artist\u001b[39m.\u001b[39;49mdo_3d_projection(),\n\u001b[0;32m    474\u001b[0m                      reverse\u001b[39m=\u001b[39m\u001b[39mTrue\u001b[39;00m):\n\u001b[0;32m    475\u001b[0m     \u001b[39mif\u001b[39;00m \u001b[39misinstance\u001b[39m(artist, mcoll\u001b[39m.\u001b[39mCollection):\n\u001b[0;32m    476\u001b[0m         artist\u001b[39m.\u001b[39mzorder \u001b[39m=\u001b[39m collection_zorder\n",
      "\u001b[1;31mAttributeError\u001b[0m: 'FancyArrow' object has no attribute 'do_3d_projection'"
     ]
    },
    {
     "data": {
      "text/plain": [
       "<Figure size 640x480 with 1 Axes>"
      ]
     },
     "metadata": {},
     "output_type": "display_data"
    }
   ],
   "source": [
    "M=Point(0.6,-0.4)\n",
    "x = np.arange(-10, 10, 0.1)\n",
    "y=-x+0.2\n",
    "q=Line((0,0),(-3,3))\n",
    "L1=q.parallel_line(M)\n",
    "print(L1.equation())\n",
    "ax = plt.axes(projection ='3d')\n",
    "plt.plot(0.6, -0.4,'or')#строим точку М\n",
    "plt.arrow(0, -2, -3, 3, width=0.08, color='Red')#вектор q\n",
    "plt.plot(x, y, 'b')\n",
    "#plt.title('Уравнение прямой y=x-1')\n",
    "\n",
    "plt.xlabel('x')\n",
    "plt.ylabel('y')\n",
    "plt.axis('equal')\n",
    "plt.grid()\n",
    "plt.show()"
   ]
  },
  {
   "cell_type": "code",
   "execution_count": null,
   "id": "1f6c29ef",
   "metadata": {},
   "outputs": [],
   "source": [
    "#Доп"
   ]
  },
  {
   "cell_type": "code",
   "execution_count": 14,
   "id": "d4d9607d",
   "metadata": {},
   "outputs": [
    {
     "name": "stdout",
     "output_type": "stream",
     "text": [
      "-4*x - 3*y + 27\n",
      "Length of height = 5 5\n",
      "-10*x + 5*y + 30\n",
      "Length of AM = 5*sqrt(5)/2\n",
      "-x - 7*y + 13\n",
      "Length of CK = 5*sqrt(2)\n"
     ]
    },
    {
     "data": {
      "image/png": "[encoded data removed]",
      "text/plain": [
       "<Figure size 640x480 with 1 Axes>"
      ]
     },
     "metadata": {},
     "output_type": "display_data"
    },
    {
     "name": "stdout",
     "output_type": "stream",
     "text": [
      "Заметим, что треугольник в нашей задаче является прямоугольным-равнобедренным! \n",
      "BH - высота, совпадает с BC, тк угол C - прямой угол \n",
      "AM - медиана \n",
      "CK - биссектриса\n"
     ]
    }
   ],
   "source": [
    "A,B,C=Point(2,-2),Point(3,5),Point(6,1)\n",
    "AC = Line(A, C)\n",
    "BH = AC.perpendicular_line( B )\n",
    "print(BH.equation())\n",
    "H = BH.points[1]\n",
    "d = B.distance( H )\n",
    "d1 = A.distance( C )\n",
    "print(\"Length of height =\", d,d1)\n",
    "\n",
    "M = [ (B[0] + C[0])/2 , (B[1] + C[1])/2 ]\n",
    "AM = Line(A, M)\n",
    "print(AM.equation() * 2)\n",
    "print(\"Length of AM =\", A.distance( M ))\n",
    "\n",
    "AB = Line(A, B)\n",
    "CK = AB.perpendicular_line( C )\n",
    "print(CK.equation())\n",
    "K = CK.points[1]\n",
    "d = C.distance( K )\n",
    "print(\"Length of CK =\", d)\n",
    "\n",
    "plt.plot(A[0], A[1], 'or', B[0], B[1], 'og', C[0], C[1], 'ob')\n",
    "plt.arrow(int(A[0]), int(A[1]), int(C[0] - A[0]), int(C[1] - A[1]),\n",
    "           width = 0.05, length_includes_head = True, color='k')\n",
    "plt.arrow(int(A[0]), int(A[1]), int(B[0] - A[0]), int(B[1] - A[1]),\n",
    "           width = 0.05, length_includes_head = True, color='k')\n",
    "plt.arrow(int(B[0]), int(B[1]), int(C[0] - B[0]), int(C[1] - B[1]),\n",
    "           width = 0.05, length_includes_head = True, color='k')\n",
    "plt.arrow(int(A[0]), int(A[1]), float(M[0] - A[0]), float(M[1] - A[1]),\n",
    "           width = 0.05, length_includes_head = True, color='g')\n",
    "plt.arrow(int(C[0]), int(C[1]), float(K[0] - C[0])/2, float(K[1] - C[1])/2,\n",
    "           width = 0.05, length_includes_head = True, color='c')\n",
    "plt.plot(M[0], M[1], 'oy')\n",
    "\n",
    "plt.text(A[0] + 0.2, A[1] - 0.2, '$A$')\n",
    "plt.text(B[0] + 0.2, B[1] - 0.2, '$B$')\n",
    "plt.text(C[0] + 0.2, C[1] - 0.2, '$C$')\n",
    "plt.text(C[0] - 0.6, C[1] - 0.1, '$H$')\n",
    "plt.text(M[0] + 0.2, M[1] - 0.2, '$M$')\n",
    "plt.text((K[0] + C[0])/2 - 0.4, (K[1]+ C[1])/2 - 0.2, '$K$')\n",
    "plt.grid()\n",
    "plt.axhline(y=0, color='k')\n",
    "plt.axvline(x=0, color='k')\n",
    "plt.axis('equal')\n",
    "plt.show()\n",
    "\n",
    "print(\"Заметим, что треугольник в нашей задаче является прямоугольным-равнобедренным!\",\n",
    "      \"\\nBH - высота, совпадает с BC, тк угол C - прямой угол\",\n",
    "      \"\\nAM - медиана\",\n",
    "      \"\\nCK - биссектриса\")\n",
    "\n",
    "\n",
    "\n"
   ]
  },
  {
   "cell_type": "code",
   "execution_count": null,
   "id": "5d5dc874",
   "metadata": {},
   "outputs": [],
   "source": []
  }
 ],
 "metadata": {
  "kernelspec": {
   "display_name": "Python 3 (ipykernel)",
   "language": "python",
   "name": "python3"
  },
  "language_info": {
   "codemirror_mode": {
    "name": "ipython",
    "version": 3
   },
   "file_extension": ".py",
   "mimetype": "text/x-python",
   "name": "python",
   "nbconvert_exporter": "python",
   "pygments_lexer": "ipython3",
   "version": "3.11.6"
  }
 },
 "nbformat": 4,
 "nbformat_minor": 5
}
