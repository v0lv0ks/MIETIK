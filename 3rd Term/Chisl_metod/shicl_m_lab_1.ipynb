{
 "cells": [
  {
   "cell_type": "code",
   "execution_count": 2,
   "metadata": {},
   "outputs": [],
   "source": [
    "import numpy as np\n",
    "import sympy as sp\n",
    "from matplotlib import style\n",
    "import matplotlib as mpl\n",
    "from sympy.abc import x\n",
    "import sys"
   ]
  },
  {
   "cell_type": "markdown",
   "metadata": {},
   "source": [
    "Task 1"
   ]
  },
  {
   "cell_type": "code",
   "execution_count": 3,
   "metadata": {},
   "outputs": [
    {
     "name": "stdout",
     "output_type": "stream",
     "text": [
      "Корни полинома: [ 1.          2.          3.          3.99999998  5.00000068  5.99998843\n",
      "  7.00011268  7.99928003  9.00327261  9.98926702 11.02799896 11.94826427\n",
      " 13.08206524 13.90674736 15.08150758 15.94233986 17.02689848 17.99046833\n",
      " 19.00198504 19.99980346]\n",
      "Корни полинома: [ 1.        +0.j          2.        +0.j          3.        +0.j\n",
      "  3.99999999+0.j          5.00000034+0.j          5.99999181+0.j\n",
      "  7.00024743+0.j          7.99439448+0.j          9.10772829+0.j\n",
      "  9.57796373+0.j         10.92094316-1.0994413j  10.92094316+1.0994413j\n",
      " 12.8454946 -2.06134888j 12.8454946 +2.06134888j 15.31441038-2.69846277j\n",
      " 15.31441038+2.69846277j 18.15707809-2.47016836j 18.15707809+2.47016836j\n",
      " 20.42191069-0.99919105j 20.42191069+0.99919105j]\n"
     ]
    }
   ],
   "source": [
    "p = np.poly((1,2,3,4,5,6,7,8,9,10,11,12,13,14,15,16,17,18,19,20))\n",
    "print (\"Корни полинома:\", np.roots(p)[::-1])\n",
    "\n",
    "p[1] = p[1] + 10**(-7)\n",
    "print (\"Корни полинома:\", np.roots(p)[::-1])"
   ]
  },
  {
   "cell_type": "markdown",
   "metadata": {},
   "source": [
    "Task 2"
   ]
  },
  {
   "cell_type": "code",
   "execution_count": 4,
   "metadata": {},
   "outputs": [
    {
     "name": "stdout",
     "output_type": "stream",
     "text": [
      "Максимальное число типа float которое можно представить: 1.7976931348623157e+308\n",
      "8.98846567431158e+307\n"
     ]
    },
    {
     "ename": "OverflowError",
     "evalue": "(34, 'Result too large')",
     "output_type": "error",
     "traceback": [
      "\u001b[1;31m---------------------------------------------------------------------------\u001b[0m",
      "\u001b[1;31mOverflowError\u001b[0m                             Traceback (most recent call last)",
      "Cell \u001b[1;32mIn[4], line 5\u001b[0m\n\u001b[0;32m      1\u001b[0m \u001b[38;5;28mprint\u001b[39m(\u001b[38;5;124m\"\u001b[39m\u001b[38;5;124mМаксимальное число типа float которое можно представить:\u001b[39m\u001b[38;5;124m\"\u001b[39m, sys\u001b[38;5;241m.\u001b[39mfloat_info\u001b[38;5;241m.\u001b[39mmax)\n\u001b[0;32m      3\u001b[0m \u001b[38;5;28mprint\u001b[39m(\u001b[38;5;241m2.\u001b[39m\u001b[38;5;241m*\u001b[39m\u001b[38;5;241m*\u001b[39m\u001b[38;5;241m1023\u001b[39m)\n\u001b[1;32m----> 5\u001b[0m \u001b[38;5;28mprint\u001b[39m(\u001b[38;5;241;43m2.\u001b[39;49m\u001b[38;5;241;43m*\u001b[39;49m\u001b[38;5;241;43m*\u001b[39;49m\u001b[38;5;241;43m1024\u001b[39;49m) \u001b[38;5;66;03m#Так как в порядке тоже есть знаковый бит, то множество его значений лежит \u001b[39;00m\n\u001b[0;32m      6\u001b[0m \u001b[38;5;66;03m# от -2^10 + 1 = 1023 до 2^10 = 1024.\u001b[39;00m\n",
      "\u001b[1;31mOverflowError\u001b[0m: (34, 'Result too large')"
     ]
    }
   ],
   "source": [
    "print(\"Максимальное число типа float которое можно представить:\", sys.float_info.max)\n",
    "\n",
    "print(2.**1023)\n",
    "\n",
    "print(2.**1024) #Так как в порядке тоже есть знаковый бит, то множество его значений лежит \n",
    "# от -2^10 + 1 = 1023 до 2^10 = 1024.\n",
    "\n"
   ]
  },
  {
   "cell_type": "markdown",
   "metadata": {},
   "source": [
    "Task 3"
   ]
  },
  {
   "cell_type": "code",
   "execution_count": null,
   "metadata": {},
   "outputs": [
    {
     "name": "stdout",
     "output_type": "stream",
     "text": [
      "1.4142135623730951\n"
     ]
    }
   ],
   "source": [
    "\n",
    "print( np.double( np.sqrt(2.)) )\n",
    "\n",
    "# 16 знаков после запятой"
   ]
  },
  {
   "cell_type": "code",
   "execution_count": null,
   "metadata": {},
   "outputs": [
    {
     "data": {
      "text/plain": [
       "100000000.0000001"
      ]
     },
     "execution_count": 32,
     "metadata": {},
     "output_type": "execute_result"
    }
   ],
   "source": [
    "10**8 + 10**(-7)"
   ]
  },
  {
   "cell_type": "code",
   "execution_count": null,
   "metadata": {},
   "outputs": [
    {
     "data": {
      "text/plain": [
       "100000000.0"
      ]
     },
     "execution_count": 41,
     "metadata": {},
     "output_type": "execute_result"
    }
   ],
   "source": [
    "np.double(10**8 + 10**(-9)) # малое число вышло за разрядную сетку и получили  10^8"
   ]
  },
  {
   "cell_type": "markdown",
   "metadata": {},
   "source": [
    "Task 4"
   ]
  },
  {
   "cell_type": "code",
   "execution_count": null,
   "metadata": {},
   "outputs": [
    {
     "name": "stdout",
     "output_type": "stream",
     "text": [
      "Первый способ: sum = 1.0\n"
     ]
    },
    {
     "data": {
      "text/plain": [
       "'sum = 0\\nfor i in range (1, 10**17):\\n    sum+=10**(-16)\\nprint(\"Второй способ: sum =\", sum  + 1 )'"
      ]
     },
     "execution_count": 53,
     "metadata": {},
     "output_type": "execute_result"
    }
   ],
   "source": [
    "sum = 1\n",
    "for i in range (1, 10**6):\n",
    "    sum+=10**(-16)\n",
    "print(\"Первый способ: sum =\", sum)\n",
    "\n",
    "\"\"\"sum = 0\n",
    "for i in range (1, 10**17):\n",
    "    sum+=10**(-16)\n",
    "print(\"Второй способ: sum =\", sum  + 1 )\"\"\""
   ]
  },
  {
   "cell_type": "markdown",
   "metadata": {},
   "source": [
    "Task 5"
   ]
  },
  {
   "cell_type": "code",
   "execution_count": null,
   "metadata": {},
   "outputs": [
    {
     "name": "stdout",
     "output_type": "stream",
     "text": [
      " n: 0, e: 1, rez:1.0\n",
      " n: 1, e: 0.5, rez:1.0\n",
      " n: 2, e: 0.25, rez:1.0\n",
      " n: 3, e: 0.125, rez:1.0\n",
      " n: 4, e: 0.0625, rez:1.0\n",
      " n: 5, e: 0.03125, rez:1.0\n",
      " n: 6, e: 0.015625, rez:1.0\n",
      " n: 7, e: 0.0078125, rez:1.0\n",
      " n: 8, e: 0.00390625, rez:1.0\n",
      " n: 9, e: 0.001953125, rez:1.0\n",
      " n: 10, e: 0.0009765625, rez:1.0\n",
      " n: 11, e: 0.00048828125, rez:1.0\n",
      " n: 12, e: 0.000244140625, rez:1.0\n",
      " n: 13, e: 0.0001220703125, rez:1.0\n",
      " n: 14, e: 6.103515625e-05, rez:1.0\n",
      " n: 15, e: 3.0517578125e-05, rez:1.0\n",
      " n: 16, e: 1.52587890625e-05, rez:1.0\n",
      " n: 17, e: 7.62939453125e-06, rez:1.0\n",
      " n: 18, e: 3.814697265625e-06, rez:1.0\n",
      " n: 19, e: 1.9073486328125e-06, rez:1.0\n",
      " n: 20, e: 9.5367431640625e-07, rez:1.0\n",
      " n: 21, e: 4.76837158203125e-07, rez:1.0\n",
      " n: 22, e: 2.384185791015625e-07, rez:1.0\n",
      " n: 23, e: 1.1920928955078125e-07, rez:1.0\n",
      " n: 24, e: 5.960464477539063e-08, rez:1.0\n",
      " n: 25, e: 2.9802322387695312e-08, rez:1.0\n",
      " n: 26, e: 1.4901161193847656e-08, rez:1.0\n",
      " n: 27, e: 7.450580596923828e-09, rez:1.0\n",
      " n: 28, e: 3.725290298461914e-09, rez:1.0\n",
      " n: 29, e: 1.862645149230957e-09, rez:1.0\n",
      " n: 30, e: 9.313225746154785e-10, rez:1.0\n",
      " n: 31, e: 4.656612873077393e-10, rez:1.0\n",
      " n: 32, e: 2.3283064365386963e-10, rez:1.0\n",
      " n: 33, e: 1.1641532182693481e-10, rez:1.0\n",
      " n: 34, e: 5.820766091346741e-11, rez:1.0\n",
      " n: 35, e: 2.9103830456733704e-11, rez:1.0\n",
      " n: 36, e: 1.4551915228366852e-11, rez:1.0\n",
      " n: 37, e: 7.275957614183426e-12, rez:1.0\n",
      " n: 38, e: 3.637978807091713e-12, rez:1.0\n",
      " n: 39, e: 1.8189894035458565e-12, rez:1.0\n",
      " n: 40, e: 9.094947017729282e-13, rez:1.0\n",
      " n: 41, e: 4.547473508864641e-13, rez:1.0\n",
      " n: 42, e: 2.2737367544323206e-13, rez:1.0\n",
      " n: 43, e: 1.1368683772161603e-13, rez:1.0\n",
      " n: 44, e: 5.684341886080802e-14, rez:1.0\n",
      " n: 45, e: 2.842170943040401e-14, rez:1.0\n",
      " n: 46, e: 1.4210854715202004e-14, rez:1.0\n",
      " n: 47, e: 7.105427357601002e-15, rez:1.0\n",
      " n: 48, e: 3.552713678800501e-15, rez:1.0\n",
      " n: 49, e: 1.7763568394002505e-15, rez:1.0\n",
      " n: 50, e: 8.881784197001252e-16, rez:1.0\n",
      " n: 51, e: 4.440892098500626e-16, rez:1.0\n",
      " n: 52, e: 2.220446049250313e-16, rez:1.0\n",
      " n: 53, e: 1.1102230246251565e-16, rez:0.0\n",
      " n: 54, e: 5.551115123125783e-17, rez:0.0\n",
      " n: 55, e: 2.7755575615628914e-17, rez:0.0\n",
      " n: 56, e: 1.3877787807814457e-17, rez:0.0\n",
      " n: 57, e: 6.938893903907228e-18, rez:0.0\n",
      " n: 58, e: 3.469446951953614e-18, rez:0.0\n",
      " n: 59, e: 1.734723475976807e-18, rez:0.0\n"
     ]
    }
   ],
   "source": [
    "for n in range(0, 60):\n",
    "    e = 2**(-n)\n",
    "    rez = ( 1 + e - 1 ) / e\n",
    "    print(f\" n: {n}, e: {e}, rez:{rez}\")"
   ]
  },
  {
   "cell_type": "code",
   "execution_count": null,
   "metadata": {},
   "outputs": [
    {
     "name": "stdout",
     "output_type": "stream",
     "text": [
      "n = 53, ε = 2^(-53), результат = 0.0\n"
     ]
    },
    {
     "data": {
      "text/plain": [
       "'Поскольку 2^-53 это примерно 1.11 * 10*(-16) это малое число при сложении с 1 выходит за разрядную\\nсетку из-за чего получается ноль в числителе -> ноль в ответе '"
      ]
     },
     "execution_count": 4,
     "metadata": {},
     "output_type": "execute_result"
    }
   ],
   "source": [
    "# Проверим значение для n = 53\n",
    "n = 53\n",
    "epsilon = 1 / (2 ** n)\n",
    "result = (1 + epsilon - 1) / epsilon\n",
    "print(f\"n = {n}, ε = 2^(-{n}), результат = {result}\")\n",
    "\"\"\"Поскольку 2^-53 это примерно 1.11 * 10*(-16) -- это малое число при сложении с 1 выходит за разрядную\n",
    "сетку из-за чего получается ноль в числителе -> ноль в ответе \"\"\""
   ]
  },
  {
   "cell_type": "markdown",
   "metadata": {},
   "source": [
    "Task 6"
   ]
  },
  {
   "cell_type": "code",
   "execution_count": null,
   "metadata": {},
   "outputs": [
    {
     "name": "stdout",
     "output_type": "stream",
     "text": [
      "[0, 0, 0, 0, 0, 0, 0, 0, 0, 0, 0, 0, 0, 0, 0, 0, 0, 0, 0, 0, 0, 0, 0, 0, 0, 0, 0, 0, 0, 0, 0]\n",
      "[0.6321205588285577, 0, 0, 0, 0, 0, 0, 0, 0, 0, 0, 0, 0, 0, 0, 0, 0, 0, 0, 0, 0, 0, 0, 0, 0, 0, 0, 0, 0, 0, 0]\n",
      "[0.6321205588285577, 0.36787944117144233, 0.26424111765711533, 0.207276647028654, 0.17089341188538398, 0.14553294057308008, 0.1268023565615195, 0.11238350406936348, 0.10093196744509214, 0.09161229299417073, 0.0838770700582927, 0.07735222935878028, 0.07177324769463667, 0.06694777996972334, 0.06273108042387321, 0.059033793641901866, 0.05545930172957014, 0.05719187059730757, -0.029453670751536265, 1.559619744279189, -30.19239488558378, 635.0402925972594, -13969.886437139707, 321308.38805421325, -7711400.313301118, 192785008.83252797, -5012410228.645727, 135335076174.43463, -3789382132883.17, 109892081853612.92, -3296762455608386.5]\n",
      "I_30 = -3296762455608386.5\n"
     ]
    },
    {
     "data": {
      "text/plain": [
       "'Из-за ошибки округления значение I^n становится отрицательным,\\n    больше единицы, а дальше тк мы умножаем на n, ошибка будет расти с каждым шагом '"
      ]
     },
     "execution_count": 29,
     "metadata": {},
     "output_type": "execute_result"
    }
   ],
   "source": [
    "import math\n",
    "\n",
    "# Функция для вычисления I_n с использованием рекуррентной формулы\n",
    "def compute_I_n(n):\n",
    "    # Базовый случай\n",
    "    if n == 1:\n",
    "        return 1 - 1 / math.e\n",
    "    # Рекуррентный случай\n",
    "    else:\n",
    "        I = [0] * (n + 1)\n",
    "        print(I)\n",
    "        I[0] = 1 - 1 / math.e\n",
    "        print(I)\n",
    "        for k in range(1, n + 1):\n",
    "            I[k] = 1 - k * I[k - 1]\n",
    "        print(I)\n",
    "        return I[k]\n",
    "\n",
    "# Вычислим I_30\n",
    "n = 30\n",
    "I_30 = compute_I_n(n)\n",
    "print(f\"I_{n} = {I_30}\")\n",
    "\"\"\"Из-за ошибки округления значение I^n становится отрицательным,\n",
    "    больше единицы, а дальше тк мы умножаем на n, ошибка будет расти с каждым шагом \"\"\"\n"
   ]
  },
  {
   "cell_type": "markdown",
   "metadata": {},
   "source": [
    "Task 7"
   ]
  },
  {
   "cell_type": "code",
   "execution_count": 87,
   "metadata": {},
   "outputs": [
    {
     "name": "stdout",
     "output_type": "stream",
     "text": [
      " Sin(0) = 0.0 \n",
      " Sin(pi/3) = 0.8660254037844385,\n",
      " Sin(pi/2) = 1.0000000000000002 \n",
      " Sin(2*pi) = 4.387823975843682e-16 \n",
      " \n",
      " Sin(12*pi) = -0.26048840103934273 \n",
      " Sin(13*pi) = -2.9021751309903294,\n",
      " Sin(14*pi) = -83.11717551225941 \n"
     ]
    }
   ],
   "source": [
    "def chast_sum(x, n):\n",
    "\n",
    "    Sum_ = x\n",
    "    Sum = [0] * (n + 1)\n",
    "    Sum[0] = x\n",
    "\n",
    "    for k in range(1, n + 1 ):\n",
    "        \n",
    "        Sum[k] = Sum[ k - 1 ] * ( ( -x*x ) / ( (2*(k-1) + 2) * ( 2 * (k-1) + 3 ) ) )\n",
    "        Sum_ += Sum[k]\n",
    "\n",
    "        if ( np.abs(Sum[k]) <= 10**(-17)) :\n",
    "            break\n",
    "\n",
    "    return Sum_\n",
    "\n",
    "print( f\" Sin(0) = {chast_sum( 0, 10)} \" )\n",
    "print( f\" Sin(pi/3) = {chast_sum( np.pi / 3, 10)},\")\n",
    "print( f\" Sin(pi/2) = {chast_sum( np.pi / 2, 10)} \" )\n",
    "print( f\" Sin(2*pi) = {chast_sum( np.pi * 2, 2000)} \" )\n",
    "print(\" \")\n",
    "print( f\" Sin(12*pi) = {chast_sum( np.pi * 12, 10**6)} \" )\n",
    "print( f\" Sin(13*pi) = {chast_sum( np.pi * 13, 10**6)},\")\n",
    "print( f\" Sin(14*pi) = {chast_sum( np.pi * 14, 10**6)} \" )\n",
    "\n"
   ]
  },
  {
   "cell_type": "code",
   "execution_count": null,
   "metadata": {},
   "outputs": [],
   "source": []
  },
  {
   "cell_type": "code",
   "execution_count": null,
   "metadata": {},
   "outputs": [],
   "source": []
  }
 ],
 "metadata": {
  "kernelspec": {
   "display_name": "Python 3",
   "language": "python",
   "name": "python3"
  },
  "language_info": {
   "codemirror_mode": {
    "name": "ipython",
    "version": 3
   },
   "file_extension": ".py",
   "mimetype": "text/x-python",
   "name": "python",
   "nbconvert_exporter": "python",
   "pygments_lexer": "ipython3",
   "version": "3.11.9"
  }
 },
 "nbformat": 4,
 "nbformat_minor": 2
}
